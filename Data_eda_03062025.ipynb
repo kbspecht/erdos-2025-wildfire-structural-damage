{
 "cells": [
  {
   "cell_type": "markdown",
   "metadata": {},
   "source": [
    "EDA on CAL FIRE data"
   ]
  },
  {
   "cell_type": "code",
   "execution_count": null,
   "metadata": {},
   "outputs": [],
   "source": [
    "import numpy as np\n",
    "import pandas as pd\n",
    "import seaborn as sns\n",
    "import matplotlib.pyplot as plt\n"
   ]
  },
  {
   "cell_type": "code",
   "execution_count": null,
   "metadata": {},
   "outputs": [],
   "source": [
    "cal_fire_data = pd.read_csv(\"Housing_Data_Cleaned_03052025.csv\")\n",
    "#cal_fire_data = cal_fire_data[cal_fire_data['Year Built (parcel)'] > 1000]\n",
    "cal_fire_data\n"
   ]
  },
  {
   "cell_type": "code",
   "execution_count": null,
   "metadata": {},
   "outputs": [],
   "source": [
    "cal_fire_data.info()\n",
    "cal_fire_data['Year Built (parcel)'].value_counts()\n"
   ]
  },
  {
   "cell_type": "code",
   "execution_count": null,
   "metadata": {},
   "outputs": [],
   "source": [
    "from sklearn.model_selection import train_test_split\n",
    "fire_train, fire_test = train_test_split(cal_fire_data, test_size=0.2, shuffle=True, random_state=216)\n"
   ]
  },
  {
   "cell_type": "code",
   "execution_count": null,
   "metadata": {},
   "outputs": [],
   "source": [
    "plt.figure(figsize=(15,5))\n",
    "\n",
    "\n",
    "plt.hist(fire_train.loc[fire_train.Damage_Level==0]['Structure Category'].values,\n",
    "            color='blue',\n",
    "            alpha=.8,\n",
    "            label=\"$y=0$\")\n",
    "\n",
    "plt.hist(fire_train.loc[fire_train.Damage_Level==1]['Structure Category'].values,\n",
    "            color='red',\n",
    "            alpha=.4,\n",
    "            hatch = '\\\\',\n",
    "            edgecolor='black',\n",
    "            label=\"$y=1$\")\n",
    "plt.hist(fire_train.loc[fire_train.Damage_Level==2]['Structure Category'].values,\n",
    "            color='green',\n",
    "            alpha=.4,\n",
    "            hatch = '\\\\',\n",
    "            edgecolor='black',\n",
    "            label=\"$y=2$\")\n",
    "plt.hist(fire_train.loc[fire_train.Damage_Level==3]['Structure Category'].values,\n",
    "            color='yellow',\n",
    "            alpha=.4,\n",
    "            hatch = '\\\\',\n",
    "            edgecolor='black',\n",
    "            label=\"$y=3$\")\n",
    "plt.hist(fire_train.loc[fire_train.Damage_Level==4]['Structure Category'].values,\n",
    "            color='pink',\n",
    "            alpha=.4,\n",
    "            hatch = '\\\\',\n",
    "            edgecolor='black',\n",
    "            label=\"$y=4$\")\n",
    "\n",
    "plt.xlabel(\"Structure Category\", fontsize=14)\n",
    "plt.legend(fontsize=14)\n",
    "\n",
    "plt.show()\n"
   ]
  },
  {
   "cell_type": "code",
   "execution_count": null,
   "metadata": {},
   "outputs": [],
   "source": [
    "plt.figure(figsize=(8,6))\n",
    "\n",
    "plt.scatter(fire_train.loc[fire_train.Damage_Level==0].Latitude,\n",
    "            fire_train.loc[fire_train.Damage_Level==0].Longitude,\n",
    "            c='blue',\n",
    "            s=60,\n",
    "            label=\"0\")\n",
    "\n",
    "plt.scatter(fire_train.loc[fire_train.Damage_Level==1].Latitude,\n",
    "            fire_train.loc[fire_train.Damage_Level==1].Longitude,\n",
    "            c='orange',\n",
    "            s=60,\n",
    "            marker='v',\n",
    "            label=\"1\")\n",
    "\n",
    "plt.scatter(fire_train.loc[fire_train.Damage_Level==2].Latitude,\n",
    "            fire_train.loc[fire_train.Damage_Level==2].Longitude,\n",
    "            c='green',\n",
    "            s=60,\n",
    "            marker='x',\n",
    "            label=\"2\")\n",
    "\n",
    "plt.scatter(fire_train.loc[fire_train.Damage_Level==3].Latitude,\n",
    "            fire_train.loc[fire_train.Damage_Level==3].Longitude,\n",
    "            c='red',\n",
    "            s=60,\n",
    "            marker='x',\n",
    "            label=\"3\")\n",
    "\n",
    "plt.scatter(fire_train.loc[fire_train.Damage_Level==4].Latitude,\n",
    "            fire_train.loc[fire_train.Damage_Level==4].Longitude,\n",
    "            c='pink',\n",
    "            s=60,\n",
    "            marker='v',\n",
    "            label=\"4\")\n",
    "\n",
    "plt.xticks(fontsize=10)\n",
    "plt.yticks(fontsize=10)\n",
    "plt.xlabel(\"Latitude\", fontsize=12)\n",
    "plt.ylabel(\"Longitude\", fontsize=12)\n",
    "plt.legend(fontsize=12)\n",
    "\n",
    "plt.show()\n"
   ]
  }
 ],
 "metadata": {
  "kernelspec": {
   "display_name": "erdos_spring_2025",
   "language": "python",
   "name": "python3"
  },
  "language_info": {
   "codemirror_mode": {
    "name": "ipython",
    "version": 3
   },
   "file_extension": ".py",
   "mimetype": "text/x-python",
   "name": "python",
   "nbconvert_exporter": "python",
   "pygments_lexer": "ipython3",
   "version": "3.12.8"
  }
 },
 "nbformat": 4,
 "nbformat_minor": 2
}
