{
 "cells": [
  {
   "cell_type": "code",
   "execution_count": 263,
   "id": "21a8ed51-676b-4b95-821a-55b0f6d22088",
   "metadata": {},
   "outputs": [],
   "source": [
    "import numpy as np \n",
    "import pandas as pd \n",
    "import matplotlib.pyplot as plt"
   ]
  },
  {
   "cell_type": "code",
   "execution_count": 237,
   "id": "6228004f-97e2-42e5-a5fa-7338f267e5b9",
   "metadata": {},
   "outputs": [],
   "source": [
    "fire_data = pd.read_csv('Housing_Data_Cleaned_03052025.csv')\n",
    "fire_data;"
   ]
  },
  {
   "cell_type": "code",
   "execution_count": 259,
   "id": "b3b2f455-2f70-40a8-80f5-df78c89479a9",
   "metadata": {},
   "outputs": [],
   "source": [
    "from sklearn.model_selection import train_test_split\n",
    "from sklearn.preprocessing import LabelEncoder\n",
    "\n",
    "#using get_gummies, might also try onehot encoder\n",
    "fire_data_encoded = pd.get_dummies(fire_data, columns=fire_data.select_dtypes('object').columns)\n",
    "X = fire_data_encoded.drop(columns=['Destroyed'])\n",
    "y = fire_data_encoded['Destroyed']\n",
    "\n",
    "\n",
    "#using the same random state and test size as everyone else\n",
    "X_train, X_test, y_train, y_test = train_test_split(X,y, test_size=.2, random_state=216, shuffle=True, stratify=y)\n",
    "\n",
    "#normalizing to remove negative numbers \n",
    "from sklearn.preprocessing import MinMaxScaler \n",
    "scale = MinMaxScaler()\n",
    "X_train = scale.fit_transform(X_train)\n",
    "X_test = scale.transform(X_test)"
   ]
  },
  {
   "cell_type": "code",
   "execution_count": 261,
   "id": "14373238-2478-4a0a-af53-94eda4012bb3",
   "metadata": {},
   "outputs": [
    {
     "name": "stdout",
     "output_type": "stream",
     "text": [
      "accuracy:  0.831385837812573\n",
      "report:                precision    recall  f1-score   support\n",
      "\n",
      "           0       0.83      0.90      0.86      5115\n",
      "           1       0.83      0.73      0.78      3443\n",
      "\n",
      "    accuracy                           0.83      8558\n",
      "   macro avg       0.83      0.82      0.82      8558\n",
      "weighted avg       0.83      0.83      0.83      8558\n",
      "\n"
     ]
    }
   ],
   "source": [
    "# create model\n",
    "from sklearn.naive_bayes import CategoricalNB\n",
    "cnb = CategoricalNB()\n",
    "\n",
    "# Fit the model\n",
    "cnb.fit(X_train,y_train)\n",
    "\n",
    "#import metrics and evaluate model\n",
    "from sklearn.metrics import accuracy_score, classification_report\n",
    "y_pred = cnb.predict(X_test)\n",
    "accuracy = accuracy_score(y_test,y_pred)\n",
    "print(\"accuracy: \", accuracy)\n",
    "print(\"report: \", classification_report(y_test,y_pred))"
   ]
  }
 ],
 "metadata": {
  "kernelspec": {
   "display_name": "Python 3 (ipykernel)",
   "language": "python",
   "name": "python3"
  },
  "language_info": {
   "codemirror_mode": {
    "name": "ipython",
    "version": 3
   },
   "file_extension": ".py",
   "mimetype": "text/x-python",
   "name": "python",
   "nbconvert_exporter": "python",
   "pygments_lexer": "ipython3",
   "version": "3.9.21"
  }
 },
 "nbformat": 4,
 "nbformat_minor": 5
}
