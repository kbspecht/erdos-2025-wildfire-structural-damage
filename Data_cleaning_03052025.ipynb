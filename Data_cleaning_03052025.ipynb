{
 "cells": [
  {
   "cell_type": "markdown",
   "metadata": {},
   "source": [
    "In this notebook we cleaned up the data on 03/05/2025."
   ]
  },
  {
   "cell_type": "code",
   "execution_count": null,
   "metadata": {},
   "outputs": [],
   "source": [
    "import numpy as np\n",
    "import pandas as pd\n"
   ]
  },
  {
   "cell_type": "code",
   "execution_count": null,
   "metadata": {},
   "outputs": [],
   "source": [
    "housing = pd.read_csv('cal_fire_data.csv')\n",
    "housing.info()\n"
   ]
  },
  {
   "cell_type": "code",
   "execution_count": null,
   "metadata": {},
   "outputs": [],
   "source": [
    "#We start by removing the colums that had unusable or repeated information.\n",
    "\n",
    "housing = housing.drop(columns=['GLOBALID', 'OBJECTID', 'Zip Code', '* Street Name',\n",
    "                                '* Street Number', 'Site Address (parcel)', 'x', 'y',\n",
    "                                'Incident Number (e.g. CAAEU 123456)', 'Battalion',\n",
    "                                'State', 'APN (parcel)'])\n",
    "\n",
    "\n",
    "\n",
    "#We removed the 2 rows where the incident was not Fire, and then the column Hazard Type.\n",
    "\n",
    "housing.drop(housing.index[housing['Hazard Type'] != 'Fire'], inplace = True)\n",
    "housing = housing.drop(columns=['Hazard Type'])\n"
   ]
  },
  {
   "cell_type": "code",
   "execution_count": null,
   "metadata": {},
   "outputs": [],
   "source": [
    "# We removed the rows where Fire Damage was Inaccessible. We created a new row copying assessing damage with numerical values instead.\n",
    "\n",
    "housing.drop(housing.index[housing['* Damage'] == 'Inaccessible'], inplace = True)\n",
    "housing['Damage_Level'] = housing['* Damage'].replace({'No Damage': 0, 'Affected (1-9%)': 1, 'Minor (10-25%)': 2, 'Major (26-50%)': 3, 'Destroyed (>50%)': 4})\n"
   ]
  },
  {
   "cell_type": "code",
   "execution_count": null,
   "metadata": {},
   "outputs": [],
   "source": [
    "# We created a new row with the building's age\n",
    "housing['Age'] = 2025 - housing['Year Built (parcel)']\n",
    "# housing = housing[housing['Year Built (parcel)'] > 1000]\n"
   ]
  },
  {
   "cell_type": "code",
   "execution_count": null,
   "metadata": {},
   "outputs": [],
   "source": [
    "#The column Incident Start Date includes badly recorded hours, so we cleaned it up to only include a date.\n",
    "# The date now always appears in DD/MM/YYYY format.\n",
    "\n",
    "def cleandate(date):\n",
    "    date = date[:date.find(' ')]\n",
    "    month = date[:date.find('/')]\n",
    "    year = date[-4:]\n",
    "    day = date[date.find('/')+1:-5]\n",
    "    if len(month) == 1:\n",
    "        month = '0' + month\n",
    "    if len(day) == 1:\n",
    "        day = '0' + day\n",
    "    return(month + '/' + day + '/' + year) \n",
    "\n",
    "housing['Incident Start Date'] = housing['Incident Start Date'].apply(cleandate)\n"
   ]
  },
  {
   "cell_type": "code",
   "execution_count": null,
   "metadata": {},
   "outputs": [],
   "source": [
    "#We make a new column that has the date without the day.\n",
    "\n",
    "def dayremove(date):\n",
    "    month = date[:date.find('/')]\n",
    "    year = date[-4:]\n",
    "    return(month + '/' + year)\n",
    "\n",
    "housing['Incident Month/Year'] = housing['Incident Start Date'].apply(dayremove)\n"
   ]
  },
  {
   "cell_type": "code",
   "execution_count": null,
   "metadata": {},
   "outputs": [],
   "source": [
    "housing.to_csv('Housing_Data_Cleaned_03052025.csv')\n"
   ]
  },
  {
   "cell_type": "code",
   "execution_count": null,
   "metadata": {},
   "outputs": [],
   "source": []
  }
 ],
 "metadata": {
  "kernelspec": {
   "display_name": "erdos_spring_2025",
   "language": "python",
   "name": "python3"
  },
  "language_info": {
   "codemirror_mode": {
    "name": "ipython",
    "version": 3
   },
   "file_extension": ".py",
   "mimetype": "text/x-python",
   "name": "python",
   "nbconvert_exporter": "python",
   "pygments_lexer": "ipython3",
   "version": "3.12.8"
  }
 },
 "nbformat": 4,
 "nbformat_minor": 2
}
