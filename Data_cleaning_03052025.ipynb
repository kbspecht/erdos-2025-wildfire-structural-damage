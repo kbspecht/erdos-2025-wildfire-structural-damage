{
 "cells": [
  {
   "cell_type": "markdown",
   "metadata": {},
   "source": [
    "In this notebook we cleaned up the data on 03/05/2025."
   ]
  },
  {
   "cell_type": "code",
   "execution_count": 129,
   "metadata": {},
   "outputs": [],
   "source": [
    "import numpy as np\n",
    "import pandas as pd\n"
   ]
  },
  {
   "cell_type": "code",
   "execution_count": 130,
   "metadata": {},
   "outputs": [
    {
     "name": "stdout",
     "output_type": "stream",
     "text": [
      "<class 'pandas.core.frame.DataFrame'>\n",
      "RangeIndex: 130722 entries, 0 to 130721\n",
      "Data columns (total 46 columns):\n",
      " #   Column                                                        Non-Null Count   Dtype  \n",
      "---  ------                                                        --------------   -----  \n",
      " 0   OBJECTID                                                      130722 non-null  int64  \n",
      " 1   * Damage                                                      130722 non-null  object \n",
      " 2   * Street Number                                               126302 non-null  float64\n",
      " 3   * Street Name                                                 125236 non-null  object \n",
      " 4   * Street Type (e.g. road, drive, lane, etc.)                  116260 non-null  object \n",
      " 5   Street Suffix (e.g. apt. 23, blding C)                        62017 non-null   object \n",
      " 6   * City                                                        98991 non-null   object \n",
      " 7   State                                                         130715 non-null  object \n",
      " 8   Zip Code                                                      77887 non-null   float64\n",
      " 9   * CAL FIRE Unit                                               130722 non-null  object \n",
      " 10  County                                                        130692 non-null  object \n",
      " 11  Community                                                     54736 non-null   object \n",
      " 12  Battalion                                                     6596 non-null    object \n",
      " 13  * Incident Name                                               130722 non-null  object \n",
      " 14  Incident Number (e.g. CAAEU 123456)                           130722 non-null  object \n",
      " 15  Incident Start Date                                           130722 non-null  object \n",
      " 16  Hazard Type                                                   130722 non-null  object \n",
      " 17  If Affected 1-9% - Where did fire start?                      12375 non-null   object \n",
      " 18  If Affected 1-9% - What started fire?                         10651 non-null   object \n",
      " 19  Structure Defense Actions Taken                               35726 non-null   object \n",
      " 20  * Structure Type                                              130722 non-null  object \n",
      " 21  Structure Category                                            130722 non-null  object \n",
      " 22  # Units in Structure (if multi unit)                          38908 non-null   float64\n",
      " 23  # of Damaged Outbuildings < 120 SQFT                          40915 non-null   float64\n",
      " 24  # of Non Damaged Outbuildings < 120 SQFT                      40923 non-null   float64\n",
      " 25  * Roof Construction                                           130094 non-null  object \n",
      " 26  * Eaves                                                       129610 non-null  object \n",
      " 27  * Vent Screen                                                 129524 non-null  object \n",
      " 28  * Exterior Siding                                             129813 non-null  object \n",
      " 29  * Window Pane                                                 129746 non-null  object \n",
      " 30  * Deck/Porch On Grade                                         130722 non-null  object \n",
      " 31  * Deck/Porch Elevated                                         130722 non-null  object \n",
      " 32  * Patio Cover/Carport Attached to Structure                   130721 non-null  object \n",
      " 33  * Fence Attached to Structure                                 109127 non-null  object \n",
      " 34  Distance - Propane Tank to Structure                          23740 non-null   object \n",
      " 35  Distance - Residence to Utility/Misc Structure &gt; 120 SQFT  18795 non-null   object \n",
      " 36  Fire Name (Secondary)                                         21171 non-null   object \n",
      " 37  APN (parcel)                                                  130056 non-null  object \n",
      " 38  Assessed Improved Value (parcel)                              123831 non-null  float64\n",
      " 39  Year Built (parcel)                                           99259 non-null   float64\n",
      " 40  Site Address (parcel)                                         125611 non-null  object \n",
      " 41  GLOBALID                                                      130722 non-null  object \n",
      " 42  Latitude                                                      130722 non-null  float64\n",
      " 43  Longitude                                                     130722 non-null  float64\n",
      " 44  x                                                             130722 non-null  float64\n",
      " 45  y                                                             130722 non-null  float64\n",
      "dtypes: float64(11), int64(1), object(34)\n",
      "memory usage: 45.9+ MB\n"
     ]
    },
    {
     "name": "stderr",
     "output_type": "stream",
     "text": [
      "/var/folders/l1/qgkmnkpx453gnydcmvkyxhh80000gn/T/ipykernel_27917/3926430974.py:1: DtypeWarning: Columns (12,36,37) have mixed types. Specify dtype option on import or set low_memory=False.\n",
      "  housing = pd.read_csv('cal_fire_data.csv')\n"
     ]
    }
   ],
   "source": [
    "housing = pd.read_csv('cal_fire_data.csv')\n",
    "housing.info()\n"
   ]
  },
  {
   "cell_type": "code",
   "execution_count": 131,
   "metadata": {},
   "outputs": [],
   "source": [
    "#We start by removing the colums that had unusable or repeated information.\n",
    "\n",
    "housing = housing.drop(columns=['GLOBALID', 'OBJECTID', 'Zip Code', '* Street Name',\n",
    "                                '* Street Number', 'Site Address (parcel)', 'x', 'y',\n",
    "                                'Incident Number (e.g. CAAEU 123456)', 'Battalion',\n",
    "                                'State', 'APN (parcel)', 'If Affected 1-9% - Where did fire start?',\n",
    "                                'If Affected 1-9% - What started fire?', 'Structure Category',\n",
    "                                '* Street Type (e.g. road, drive, lane, etc.)', 'Street Suffix (e.g. apt. 23, blding C)',\n",
    "                                '* City', '* CAL FIRE Unit', 'County', 'Community', '* Incident Name',\n",
    "                                'Structure Defense Actions Taken', '# Units in Structure (if multi unit)',\n",
    "                                '# of Damaged Outbuildings < 120 SQFT', '# of Non Damaged Outbuildings < 120 SQFT',\n",
    "                                'Distance - Propane Tank to Structure', 'Distance - Residence to Utility/Misc Structure &gt; 120 SQFT',\n",
    "                                'Fire Name (Secondary)'])\n",
    "\n",
    "\n",
    "\n",
    "#We removed the 2 rows where the incident was not Fire, and then the column Hazard Type.\n",
    "\n",
    "housing.drop(housing.index[housing['Hazard Type'] != 'Fire'], inplace = True)\n",
    "housing = housing.drop(columns=['Hazard Type'])\n"
   ]
  },
  {
   "cell_type": "code",
   "execution_count": 132,
   "metadata": {},
   "outputs": [],
   "source": [
    "# We cleaned Structure Type values\n",
    "\n",
    "housing['* Structure Type'] = housing['* Structure Type'].replace({'Single Famliy Residence Single Story': 'Single Family Residence Single Story'})\n"
   ]
  },
  {
   "cell_type": "code",
   "execution_count": 133,
   "metadata": {},
   "outputs": [],
   "source": [
    "# We created a new row with the building's age\n",
    "housing['Age'] = 2025 - housing['Year Built (parcel)']\n",
    "housing = housing.drop(columns=['Year Built (parcel)'])\n"
   ]
  },
  {
   "cell_type": "code",
   "execution_count": 134,
   "metadata": {},
   "outputs": [],
   "source": [
    "#The column Incident Start Date includes badly recorded hours, so we cleaned it up to only include a date.\n",
    "# The date now always appears in DD/MM/YYYY format.\n",
    "\n",
    "def cleandate(date):\n",
    "    date = date[:date.find(' ')]\n",
    "    month = date[:date.find('/')]\n",
    "    year = date[-4:]\n",
    "    day = date[date.find('/')+1:-5]\n",
    "    if len(month) == 1:\n",
    "        month = '0' + month\n",
    "    if len(day) == 1:\n",
    "        day = '0' + day\n",
    "    return(month + '/' + day + '/' + year) \n",
    "\n",
    "housing['Incident Start Date'] = housing['Incident Start Date'].apply(cleandate)\n"
   ]
  },
  {
   "cell_type": "code",
   "execution_count": 135,
   "metadata": {},
   "outputs": [],
   "source": [
    "#We make a new column that has the date without the day.\n",
    "\n",
    "def dayremove(date):\n",
    "    month = date[:date.find('/')]\n",
    "    year = date[-4:]\n",
    "    return(month + '/' + year)\n",
    "\n",
    "housing['Incident Month/Year'] = housing['Incident Start Date'].apply(dayremove)\n",
    "housing = housing.drop(columns=['Incident Start Date'])\n"
   ]
  },
  {
   "cell_type": "code",
   "execution_count": 136,
   "metadata": {},
   "outputs": [],
   "source": [
    "# We remove rows where the incident occurred before 2018, since incidents without damage weren't reported before then and it could bias the data\n",
    "def getyear(date):\n",
    "    return int(date[-2:])\n",
    "\n",
    "housing['Year'] = housing['Incident Month/Year'].apply(getyear)\n",
    "housing = housing[housing['Year'] > 17]\n",
    "housing = housing.drop(columns=['Year', 'Incident Month/Year'])\n"
   ]
  },
  {
   "cell_type": "code",
   "execution_count": null,
   "metadata": {},
   "outputs": [
    {
     "name": "stderr",
     "output_type": "stream",
     "text": [
      "/var/folders/l1/qgkmnkpx453gnydcmvkyxhh80000gn/T/ipykernel_27917/3107550910.py:4: FutureWarning: Downcasting behavior in `replace` is deprecated and will be removed in a future version. To retain the old behavior, explicitly call `result.infer_objects(copy=False)`. To opt-in to the future behavior, set `pd.set_option('future.no_silent_downcasting', True)`\n",
      "  housing['Damage_Level'] = housing['* Damage'].replace({'No Damage': 0, 'Affected (1-9%)': 0, 'Minor (10-25%)': 0, 'Major (26-50%)': 0, 'Destroyed (>50%)': 1})\n"
     ]
    }
   ],
   "source": [
    "# We removed the rows where Fire Damage was Inaccessible. We created a new row copying assessing damage with numerical values instead.\n",
    "\n",
    "housing.drop(housing.index[housing['* Damage'] == 'Inaccessible'], inplace = True)\n",
    "housing['Destroyed'] = housing['* Damage'].replace({'No Damage': 0, 'Affected (1-9%)': 0, 'Minor (10-25%)': 0, 'Major (26-50%)': 0, 'Destroyed (>50%)': 1})\n",
    "housing = housing.drop(columns=['* Damage'])\n"
   ]
  },
  {
   "cell_type": "code",
   "execution_count": 138,
   "metadata": {},
   "outputs": [],
   "source": [
    "# We imputed missing feature values\n",
    "\n",
    "from sklearn.experimental import enable_iterative_imputer\n",
    "from sklearn.impute import IterativeImputer\n",
    "from sklearn.preprocessing import LabelEncoder\n",
    "\n",
    "def missingyear(age):\n",
    "    if age > 1000.0:\n",
    "        return np.nan\n",
    "    return age\n",
    "\n",
    "housing['Age'] = housing['Age'].apply(missingyear)\n",
    "\n",
    "les = []\n",
    "cols = housing.select_dtypes('object').columns\n",
    "for col in cols:\n",
    "    le = LabelEncoder()\n",
    "    housing[col] = le.fit_transform(housing[col])\n",
    "    les.append(le)\n",
    "impute = IterativeImputer(max_iter=10, random_state=216)\n",
    "housing = pd.DataFrame(impute.fit_transform(housing), columns = housing.columns)\n",
    "i = 0\n",
    "for le in les:\n",
    "    housing[cols[i]] = le.inverse_transform(housing[cols[i]].astype('int'))\n",
    "    i += 1\n"
   ]
  },
  {
   "cell_type": "code",
   "execution_count": 139,
   "metadata": {},
   "outputs": [],
   "source": [
    "housing.to_csv('Housing_Data_Cleaned_03052025.csv')\n"
   ]
  },
  {
   "cell_type": "code",
   "execution_count": null,
   "metadata": {},
   "outputs": [],
   "source": []
  }
 ],
 "metadata": {
  "kernelspec": {
   "display_name": "erdos_spring_2025",
   "language": "python",
   "name": "python3"
  },
  "language_info": {
   "codemirror_mode": {
    "name": "ipython",
    "version": 3
   },
   "file_extension": ".py",
   "mimetype": "text/x-python",
   "name": "python",
   "nbconvert_exporter": "python",
   "pygments_lexer": "ipython3",
   "version": "3.12.8"
  }
 },
 "nbformat": 4,
 "nbformat_minor": 2
}
