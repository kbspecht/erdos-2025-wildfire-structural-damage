{
 "cells": [
  {
   "cell_type": "markdown",
   "metadata": {},
   "source": [
    "Data Cleaning"
   ]
  },
  {
   "cell_type": "code",
   "execution_count": 1,
   "metadata": {},
   "outputs": [],
   "source": [
    "import numpy as np\n",
    "import pandas as pd\n"
   ]
  },
  {
   "cell_type": "markdown",
   "metadata": {},
   "source": [
    "We start by reading data in from cal_fire_data CSV file (downloaded from CAL FIRE database):"
   ]
  },
  {
   "cell_type": "code",
   "execution_count": 2,
   "metadata": {},
   "outputs": [
    {
     "name": "stdout",
     "output_type": "stream",
     "text": [
      "<class 'pandas.core.frame.DataFrame'>\n",
      "RangeIndex: 130722 entries, 0 to 130721\n",
      "Data columns (total 46 columns):\n",
      " #   Column                                                        Non-Null Count   Dtype  \n",
      "---  ------                                                        --------------   -----  \n",
      " 0   OBJECTID                                                      130722 non-null  int64  \n",
      " 1   * Damage                                                      130722 non-null  object \n",
      " 2   * Street Number                                               126302 non-null  float64\n",
      " 3   * Street Name                                                 125236 non-null  object \n",
      " 4   * Street Type (e.g. road, drive, lane, etc.)                  116260 non-null  object \n",
      " 5   Street Suffix (e.g. apt. 23, blding C)                        62017 non-null   object \n",
      " 6   * City                                                        98991 non-null   object \n",
      " 7   State                                                         130715 non-null  object \n",
      " 8   Zip Code                                                      77887 non-null   float64\n",
      " 9   * CAL FIRE Unit                                               130722 non-null  object \n",
      " 10  County                                                        130692 non-null  object \n",
      " 11  Community                                                     54736 non-null   object \n",
      " 12  Battalion                                                     6596 non-null    object \n",
      " 13  * Incident Name                                               130722 non-null  object \n",
      " 14  Incident Number (e.g. CAAEU 123456)                           130722 non-null  object \n",
      " 15  Incident Start Date                                           130722 non-null  object \n",
      " 16  Hazard Type                                                   130722 non-null  object \n",
      " 17  If Affected 1-9% - Where did fire start?                      12375 non-null   object \n",
      " 18  If Affected 1-9% - What started fire?                         10651 non-null   object \n",
      " 19  Structure Defense Actions Taken                               35726 non-null   object \n",
      " 20  * Structure Type                                              130722 non-null  object \n",
      " 21  Structure Category                                            130722 non-null  object \n",
      " 22  # Units in Structure (if multi unit)                          38908 non-null   float64\n",
      " 23  # of Damaged Outbuildings < 120 SQFT                          40915 non-null   float64\n",
      " 24  # of Non Damaged Outbuildings < 120 SQFT                      40923 non-null   float64\n",
      " 25  * Roof Construction                                           130094 non-null  object \n",
      " 26  * Eaves                                                       129610 non-null  object \n",
      " 27  * Vent Screen                                                 129524 non-null  object \n",
      " 28  * Exterior Siding                                             129813 non-null  object \n",
      " 29  * Window Pane                                                 129746 non-null  object \n",
      " 30  * Deck/Porch On Grade                                         130722 non-null  object \n",
      " 31  * Deck/Porch Elevated                                         130722 non-null  object \n",
      " 32  * Patio Cover/Carport Attached to Structure                   130721 non-null  object \n",
      " 33  * Fence Attached to Structure                                 109127 non-null  object \n",
      " 34  Distance - Propane Tank to Structure                          23740 non-null   object \n",
      " 35  Distance - Residence to Utility/Misc Structure &gt; 120 SQFT  18795 non-null   object \n",
      " 36  Fire Name (Secondary)                                         21171 non-null   object \n",
      " 37  APN (parcel)                                                  130056 non-null  object \n",
      " 38  Assessed Improved Value (parcel)                              123831 non-null  float64\n",
      " 39  Year Built (parcel)                                           99259 non-null   float64\n",
      " 40  Site Address (parcel)                                         125611 non-null  object \n",
      " 41  GLOBALID                                                      130722 non-null  object \n",
      " 42  Latitude                                                      130722 non-null  float64\n",
      " 43  Longitude                                                     130722 non-null  float64\n",
      " 44  x                                                             130722 non-null  float64\n",
      " 45  y                                                             130722 non-null  float64\n",
      "dtypes: float64(11), int64(1), object(34)\n",
      "memory usage: 45.9+ MB\n"
     ]
    },
    {
     "name": "stderr",
     "output_type": "stream",
     "text": [
      "/var/folders/l1/qgkmnkpx453gnydcmvkyxhh80000gn/T/ipykernel_69411/3475726481.py:1: DtypeWarning: Columns (12,36,37) have mixed types. Specify dtype option on import or set low_memory=False.\n",
      "  cal_fire_data = pd.read_csv('../data/cal_fire_data.csv')\n"
     ]
    }
   ],
   "source": [
    "cal_fire_data = pd.read_csv('../data/cal_fire_data.csv')\n",
    "cal_fire_data.info()\n"
   ]
  },
  {
   "cell_type": "markdown",
   "metadata": {},
   "source": [
    "We remove the columns that have unusable or repeated information:"
   ]
  },
  {
   "cell_type": "code",
   "execution_count": 3,
   "metadata": {},
   "outputs": [],
   "source": [
    "cal_fire_data = cal_fire_data.drop(columns=['GLOBALID', 'OBJECTID', 'Zip Code', '* Street Name',\n",
    "                                '* Street Number', 'Site Address (parcel)', 'x', 'y',\n",
    "                                'Incident Number (e.g. CAAEU 123456)', 'Battalion',\n",
    "                                'State', 'APN (parcel)', 'If Affected 1-9% - Where did fire start?',\n",
    "                                'If Affected 1-9% - What started fire?', 'Structure Category',\n",
    "                                '* Street Type (e.g. road, drive, lane, etc.)', 'Street Suffix (e.g. apt. 23, blding C)',\n",
    "                                '* City', '* CAL FIRE Unit', 'County', 'Community',\n",
    "                                'Structure Defense Actions Taken', '# Units in Structure (if multi unit)',\n",
    "                                '# of Damaged Outbuildings < 120 SQFT', '# of Non Damaged Outbuildings < 120 SQFT',\n",
    "                                'Distance - Propane Tank to Structure', 'Distance - Residence to Utility/Misc Structure &gt; 120 SQFT',\n",
    "                                'Fire Name (Secondary)'])\n"
   ]
  },
  {
   "cell_type": "markdown",
   "metadata": {},
   "source": [
    "We remove the 2 rows where the incident was not Fire, and then the column Hazard Type:"
   ]
  },
  {
   "cell_type": "code",
   "execution_count": 4,
   "metadata": {},
   "outputs": [],
   "source": [
    "cal_fire_data.drop(cal_fire_data.index[cal_fire_data['Hazard Type'] != 'Fire'], inplace = True)\n",
    "cal_fire_data = cal_fire_data.drop(columns=['Hazard Type'])\n"
   ]
  },
  {
   "cell_type": "markdown",
   "metadata": {},
   "source": [
    "We clean Structure Type values:"
   ]
  },
  {
   "cell_type": "code",
   "execution_count": 5,
   "metadata": {},
   "outputs": [],
   "source": [
    "cal_fire_data['* Structure Type'] = cal_fire_data['* Structure Type'].replace({'Single Famliy Residence Single Story': 'Single Family Residence Single Story'})\n"
   ]
  },
  {
   "cell_type": "markdown",
   "metadata": {},
   "source": [
    "We clean various unknown values:"
   ]
  },
  {
   "cell_type": "code",
   "execution_count": 6,
   "metadata": {},
   "outputs": [],
   "source": [
    "cal_fire_data['* Roof Construction'] = cal_fire_data['* Roof Construction'].replace({'Unknown': np.nan})\n",
    "cal_fire_data['* Eaves'] = cal_fire_data['* Eaves'].replace({'Unknown': np.nan})\n",
    "cal_fire_data['* Vent Screen'] = cal_fire_data['* Vent Screen'].replace({'Unknown': np.nan})\n",
    "cal_fire_data['* Exterior Siding'] = cal_fire_data['* Exterior Siding'].replace({'Unknown': np.nan})\n",
    "cal_fire_data['* Window Pane'] = cal_fire_data['* Window Pane'].replace({'Unknown': np.nan})\n",
    "cal_fire_data['* Deck/Porch On Grade'] = cal_fire_data['* Deck/Porch On Grade'].replace({'Unknown': np.nan})\n",
    "cal_fire_data['* Deck/Porch Elevated'] = cal_fire_data['* Deck/Porch Elevated'].replace({'Unknown': np.nan})\n",
    "cal_fire_data['* Patio Cover/Carport Attached to Structure'] = cal_fire_data['* Patio Cover/Carport Attached to Structure'].replace({'Unknown': np.nan})\n",
    "cal_fire_data['* Fence Attached to Structure'] = cal_fire_data['* Fence Attached to Structure'].replace({'Unknown': np.nan})\n"
   ]
  },
  {
   "cell_type": "markdown",
   "metadata": {},
   "source": [
    "We create a new row with the building's age (transformed from year built):"
   ]
  },
  {
   "cell_type": "code",
   "execution_count": 7,
   "metadata": {},
   "outputs": [],
   "source": [
    "cal_fire_data['Age'] = 2025 - cal_fire_data['Year Built (parcel)']\n",
    "cal_fire_data = cal_fire_data.drop(columns=['Year Built (parcel)'])\n"
   ]
  },
  {
   "cell_type": "markdown",
   "metadata": {},
   "source": [
    "The column Incident Start Date includes badly recorded hours, so we clean it up to only include a date.\n",
    "The date now always appears in DD/MM/YYYY format."
   ]
  },
  {
   "cell_type": "code",
   "execution_count": 8,
   "metadata": {},
   "outputs": [],
   "source": [
    "# Cleans Incident Start Date to appear in DD/MM/YYYY format.\n",
    "def cleandate(date):\n",
    "    date = date[:date.find(' ')]\n",
    "    month = date[:date.find('/')]\n",
    "    year = date[-4:]\n",
    "    day = date[date.find('/')+1:-5]\n",
    "    if len(month) == 1:\n",
    "        month = '0' + month\n",
    "    if len(day) == 1:\n",
    "        day = '0' + day\n",
    "    return(month + '/' + day + '/' + year) \n",
    "\n",
    "cal_fire_data['Incident Start Date'] = cal_fire_data['Incident Start Date'].apply(cleandate)\n"
   ]
  },
  {
   "cell_type": "markdown",
   "metadata": {},
   "source": [
    "We make a new column that has the date without the day:"
   ]
  },
  {
   "cell_type": "code",
   "execution_count": 9,
   "metadata": {},
   "outputs": [],
   "source": [
    "# Creates a new column that has the date without the day.\n",
    "def dayremove(date):\n",
    "    month = date[:date.find('/')]\n",
    "    year = date[-4:]\n",
    "    return(month + '/' + year)\n",
    "\n",
    "cal_fire_data['Incident Month/Year'] = cal_fire_data['Incident Start Date'].apply(dayremove)\n",
    "cal_fire_data = cal_fire_data.drop(columns=['Incident Start Date'])\n"
   ]
  },
  {
   "cell_type": "markdown",
   "metadata": {},
   "source": [
    "We removed observations where the incident occurred before 2018, since buildings without damage weren't reported before then and they could bias the data:"
   ]
  },
  {
   "cell_type": "code",
   "execution_count": 10,
   "metadata": {},
   "outputs": [],
   "source": [
    "# Gets observations where the incident occurred before 2018\n",
    "def getyear(date):\n",
    "    return int(date[-2:])\n",
    "\n",
    "cal_fire_data['Year'] = cal_fire_data['Incident Month/Year'].apply(getyear)\n",
    "cal_fire_data = cal_fire_data[cal_fire_data['Year'] > 17]\n",
    "cal_fire_data = cal_fire_data.drop(columns=['Year', 'Incident Month/Year'])\n"
   ]
  },
  {
   "cell_type": "markdown",
   "metadata": {},
   "source": [
    "We remove the rows where Fire Damage was Inaccessible. We then create a new column, Destroyed, that \n",
    "converts Damage levels into either Not Destroyed (0) or Destroyed (1)."
   ]
  },
  {
   "cell_type": "code",
   "execution_count": 11,
   "metadata": {},
   "outputs": [
    {
     "name": "stderr",
     "output_type": "stream",
     "text": [
      "/var/folders/l1/qgkmnkpx453gnydcmvkyxhh80000gn/T/ipykernel_69411/3483222767.py:2: FutureWarning: Downcasting behavior in `replace` is deprecated and will be removed in a future version. To retain the old behavior, explicitly call `result.infer_objects(copy=False)`. To opt-in to the future behavior, set `pd.set_option('future.no_silent_downcasting', True)`\n",
      "  cal_fire_data['Destroyed'] = cal_fire_data['* Damage'].replace({'No Damage': 0, 'Affected (1-9%)': 0, 'Minor (10-25%)': 0, 'Major (26-50%)': 0, 'Destroyed (>50%)': 1})\n"
     ]
    }
   ],
   "source": [
    "cal_fire_data.drop(cal_fire_data.index[cal_fire_data['* Damage'] == 'Inaccessible'], inplace = True)\n",
    "cal_fire_data['Destroyed'] = cal_fire_data['* Damage'].replace({'No Damage': 0, 'Affected (1-9%)': 0, 'Minor (10-25%)': 0, 'Major (26-50%)': 0, 'Destroyed (>50%)': 1})\n",
    "cal_fire_data = cal_fire_data.drop(columns=['* Damage'])\n"
   ]
  },
  {
   "cell_type": "markdown",
   "metadata": {},
   "source": [
    "We convert Age values of 2024 or 2025 to appear as missing instead:"
   ]
  },
  {
   "cell_type": "code",
   "execution_count": 12,
   "metadata": {},
   "outputs": [],
   "source": [
    "# Finds age values of 2024/2025\n",
    "def missingyear(age):\n",
    "    if age > 1000.0:\n",
    "        return np.nan\n",
    "    return age\n",
    "\n",
    "cal_fire_data['Age'] = cal_fire_data['Age'].apply(missingyear)\n"
   ]
  },
  {
   "cell_type": "markdown",
   "metadata": {},
   "source": [
    "We convert empty string values to appear as missing instead:"
   ]
  },
  {
   "cell_type": "code",
   "execution_count": 13,
   "metadata": {},
   "outputs": [],
   "source": [
    "cal_fire_data = cal_fire_data.replace({' ':np.nan})\n"
   ]
  },
  {
   "cell_type": "markdown",
   "metadata": {},
   "source": [
    "We drop all observations with missing values:"
   ]
  },
  {
   "cell_type": "code",
   "execution_count": 14,
   "metadata": {},
   "outputs": [],
   "source": [
    "cal_fire_data = cal_fire_data.dropna()\n"
   ]
  },
  {
   "cell_type": "markdown",
   "metadata": {},
   "source": [
    "We delete remaining observations with mislabeled data:"
   ]
  },
  {
   "cell_type": "code",
   "execution_count": 15,
   "metadata": {},
   "outputs": [
    {
     "name": "stdout",
     "output_type": "stream",
     "text": [
      "<class 'pandas.core.frame.DataFrame'>\n",
      "Index: 42789 entries, 0 to 130717\n",
      "Data columns (total 16 columns):\n",
      " #   Column                                       Non-Null Count  Dtype  \n",
      "---  ------                                       --------------  -----  \n",
      " 0   * Incident Name                              42789 non-null  object \n",
      " 1   * Structure Type                             42789 non-null  object \n",
      " 2   * Roof Construction                          42789 non-null  object \n",
      " 3   * Eaves                                      42789 non-null  object \n",
      " 4   * Vent Screen                                42789 non-null  object \n",
      " 5   * Exterior Siding                            42789 non-null  object \n",
      " 6   * Window Pane                                42789 non-null  object \n",
      " 7   * Deck/Porch On Grade                        42789 non-null  object \n",
      " 8   * Deck/Porch Elevated                        42789 non-null  object \n",
      " 9   * Patio Cover/Carport Attached to Structure  42789 non-null  object \n",
      " 10  * Fence Attached to Structure                42789 non-null  object \n",
      " 11  Assessed Improved Value (parcel)             42789 non-null  float64\n",
      " 12  Latitude                                     42789 non-null  float64\n",
      " 13  Longitude                                    42789 non-null  float64\n",
      " 14  Age                                          42789 non-null  float64\n",
      " 15  Destroyed                                    42789 non-null  int64  \n",
      "dtypes: float64(4), int64(1), object(11)\n",
      "memory usage: 5.5+ MB\n"
     ]
    }
   ],
   "source": [
    "#Roof Construction Cleanup\n",
    "cal_fire_data = cal_fire_data.drop(index = 95088)\n",
    "cal_fire_data = cal_fire_data.drop(index = 101186)\n",
    "\n",
    "#Eaves Cleanup\n",
    "cal_fire_data = cal_fire_data.drop(index = 114021)\n",
    "cal_fire_data = cal_fire_data.drop(index = 114283)\n",
    "\n",
    "#Vent Screen Cleanup\n",
    "cal_fire_data = cal_fire_data.drop(index = 94177)\n",
    "cal_fire_data = cal_fire_data.drop(index = 97951)\n",
    "cal_fire_data = cal_fire_data.drop(index = 105779)\n",
    "\n",
    "#Window Pane Cleanup\n",
    "cal_fire_data = cal_fire_data.drop(index = 96139)\n",
    "\n",
    "cal_fire_data.info()\n"
   ]
  },
  {
   "cell_type": "markdown",
   "metadata": {},
   "source": [
    "We save the cleaned data to the cal_fire_data_test CSV file for test data (data from the 3 most recent incidents) and to the cal_fire_data_train CSV file for training data (the rest of the data):"
   ]
  },
  {
   "cell_type": "code",
   "execution_count": 16,
   "metadata": {},
   "outputs": [],
   "source": [
    "cal_fire_data_test = cal_fire_data[cal_fire_data['* Incident Name'].isin(['Franklin','Eaton','Palisades'])]\n",
    "cal_fire_data_train = cal_fire_data[~cal_fire_data.index.isin(cal_fire_data_test.index)]\n",
    "\n",
    "cal_fire_data_train.to_csv('../data/cal_fire_data_train.csv', index=False)\n",
    "cal_fire_data_test.to_csv('../data/cal_fire_data_test.csv', index=False)\n"
   ]
  }
 ],
 "metadata": {
  "kernelspec": {
   "display_name": "erdos_spring_2025",
   "language": "python",
   "name": "python3"
  },
  "language_info": {
   "codemirror_mode": {
    "name": "ipython",
    "version": 3
   },
   "file_extension": ".py",
   "mimetype": "text/x-python",
   "name": "python",
   "nbconvert_exporter": "python",
   "pygments_lexer": "ipython3",
   "version": "3.12.8"
  }
 },
 "nbformat": 4,
 "nbformat_minor": 2
}
