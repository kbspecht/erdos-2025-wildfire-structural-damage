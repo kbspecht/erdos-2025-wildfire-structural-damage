{
 "cells": [
  {
   "cell_type": "code",
   "execution_count": null,
   "id": "e35f4658",
   "metadata": {},
   "outputs": [],
   "source": [
    "#Import some basic packages\n",
    "import numpy as np\n",
    "import pandas as pd"
   ]
  },
  {
   "cell_type": "code",
   "execution_count": null,
   "id": "c72209b4",
   "metadata": {},
   "outputs": [],
   "source": [
    "#Import sklearn packages\n",
    "from sklearn.model_selection import train_test_split, GridSearchCV\n",
    "from sklearn.pipeline import Pipeline\n",
    "from sklearn.compose import ColumnTransformer\n",
    "from sklearn.preprocessing import OneHotEncoder, StandardScaler\n",
    "from sklearn.tree import DecisionTreeClassifier\n",
    "from sklearn.ensemble import ExtraTreesClassifier\n",
    "from sklearn.metrics import classification_report, accuracy_score, f1_score, recall_score, precision_score, confusion_matrix"
   ]
  },
  {
   "cell_type": "code",
   "execution_count": null,
   "id": "66899d91",
   "metadata": {},
   "outputs": [],
   "source": [
    "#Let's import the data and instanciate a train/test split with the seed we fixed.\n",
    "\n",
    "housing = pd.read_csv('../data/cal_fire_data_cleaned.csv')\n",
    "\n",
    "from sklearn.model_selection import train_test_split\n",
    "housing_train,housing_test = train_test_split(housing, test_size=.2, random_state=216, shuffle=True, stratify=housing['Destroyed'])\n",
    "\n"
   ]
  },
  {
   "cell_type": "markdown",
   "id": "86da7872",
   "metadata": {},
   "source": [
    "We're trying an Extra Trees Classifier model.\n"
   ]
  },
  {
   "cell_type": "code",
   "execution_count": null,
   "id": "447f94ef",
   "metadata": {},
   "outputs": [],
   "source": [
    "#Let's do the same but with Extra Trees model and compare.\n",
    "\n",
    "X = housing.drop(columns='Destroyed')\n",
    "y = housing['Destroyed']\n",
    "\n",
    "categorical_cols = X.select_dtypes(include='object').columns.tolist()\n",
    "\n",
    "numeric_cols = X.select_dtypes(include=['int64', 'float64']).columns.difference(['Destroyed'])\n",
    "\n",
    "preprocessor = ColumnTransformer(\n",
    "    transformers=[\n",
    "        ('cat', OneHotEncoder(handle_unknown='ignore'), categorical_cols),\n",
    "        ('scaler', StandardScaler(), numeric_cols)\n",
    "    ],\n",
    "    remainder='passthrough'  \n",
    ")\n",
    "\n",
    "etpipeline = Pipeline(steps=[\n",
    "    ('preprocessor', preprocessor),\n",
    "    ('classifier', ExtraTreesClassifier(n_estimators=100, random_state=216))\n",
    "])\n",
    "\n",
    "param_grid = {\n",
    "    'classifier__criterion': ['gini'],\n",
    "    'classifier__max_depth': [5, 10, 15, 20, None],\n",
    "    'classifier__min_samples_split': [2, 4, 6, 8, 10, 12],\n",
    "    'classifier__min_samples_leaf': [1, 2, 4, 8]\n",
    "}\n",
    "\n",
    "X_train = housing_train.drop(columns='Destroyed')\n",
    "y_train = housing_train['Destroyed']\n",
    "\n",
    "X_test = housing_test.drop(columns='Destroyed')\n",
    "y_test = housing_test['Destroyed']\n",
    "\n",
    "\n",
    "grid_search_et = GridSearchCV(etpipeline, param_grid, cv=5, verbose=1, n_jobs=-1)\n",
    "grid_search_et.fit(X_train, y_train)\n",
    "\n",
    "print(\"best_params:\", grid_search_et.best_params_)\n",
    "y_etpred = grid_search_et.best_estimator_.predict(X_test)\n",
    "print(classification_report(y_test, y_etpred))\n",
    "\n"
   ]
  },
  {
   "cell_type": "code",
   "execution_count": null,
   "id": "8b18b054",
   "metadata": {},
   "outputs": [],
   "source": [
    "print('The confusion matrix is \\n', confusion_matrix(housing_test['Destroyed'].values, y_etpred))\n",
    "print('The accuracy score is', accuracy_score(housing_test['Destroyed'].values, y_etpred), '\\n')\n",
    "print('The precision score is', precision_score(housing_test['Destroyed'].values, y_etpred), '\\n')\n",
    "print('The recall score is', recall_score(housing_test['Destroyed'].values, y_etpred), '\\n')\n",
    "print('The f1 score is', f1_score(housing_test['Destroyed'].values, y_etpred), '\\n')\n"
   ]
  },
  {
   "cell_type": "markdown",
   "id": "25a7024f",
   "metadata": {},
   "source": [
    "It's clear that the regular Random Forest Classifier offers much better performance, so we won't investigate this model further."
   ]
  },
  {
   "cell_type": "code",
   "execution_count": null,
   "id": "68369a6d",
   "metadata": {},
   "outputs": [],
   "source": [
    "feature_df = pd.DataFrame({'feature': np.concat([pd.get_dummies(X, X.select_dtypes('object').columns).columns[4:].values, pd.get_dummies(X, X.select_dtypes('object').columns).columns[:4].values]),\n",
    "                            'importance': grid_search_et.best_estimator_['classifier'].feature_importances_})\n",
    "display(feature_df.sort_values(by=['importance'], ascending=False))"
   ]
  }
 ],
 "metadata": {
  "language_info": {
   "name": "python"
  }
 },
 "nbformat": 4,
 "nbformat_minor": 5
}
