{
 "cells": [
  {
   "cell_type": "markdown",
   "id": "4744b30e",
   "metadata": {},
   "source": [
    "Extra Trees Model for Building Destruction Classification"
   ]
  },
  {
   "cell_type": "code",
   "execution_count": 1,
   "id": "e35f4658",
   "metadata": {},
   "outputs": [],
   "source": [
    "#Import some basic packages\n",
    "import numpy as np\n",
    "import pandas as pd\n"
   ]
  },
  {
   "cell_type": "code",
   "execution_count": 2,
   "id": "c72209b4",
   "metadata": {},
   "outputs": [],
   "source": [
    "#Import sklearn packages\n",
    "from sklearn.model_selection import train_test_split, GridSearchCV\n",
    "from sklearn.pipeline import Pipeline\n",
    "from sklearn.compose import ColumnTransformer\n",
    "from sklearn.preprocessing import OneHotEncoder, StandardScaler\n",
    "from sklearn.tree import DecisionTreeClassifier\n",
    "from sklearn.ensemble import ExtraTreesClassifier\n",
    "from sklearn.metrics import classification_report, accuracy_score, f1_score, recall_score, precision_score, confusion_matrix\n"
   ]
  },
  {
   "cell_type": "code",
   "execution_count": null,
   "id": "66899d91",
   "metadata": {},
   "outputs": [],
   "source": [
    "#Let's import the data and instanciate a train/test split with the seed we fixed.\n",
    "\n",
    "cal_fire_data = pd.read_csv('../data/cal_fire_data_cleaned.csv')\n",
    "cal_fire_data.info()\n"
   ]
  },
  {
   "cell_type": "code",
   "execution_count": null,
   "id": "73dee39b",
   "metadata": {},
   "outputs": [],
   "source": [
    "\n",
    "from sklearn.model_selection import train_test_split\n",
    "X = cal_fire_data.drop(columns='Destroyed')\n",
    "y = cal_fire_data['Destroyed']\n",
    "X_train, X_test, y_train, y_test = train_test_split(X, y, test_size=.2, random_state=216, shuffle=True, stratify=y)\n"
   ]
  },
  {
   "cell_type": "markdown",
   "id": "86da7872",
   "metadata": {},
   "source": [
    "We're trying an Extra Trees Classifier model.\n"
   ]
  },
  {
   "cell_type": "code",
   "execution_count": null,
   "id": "447f94ef",
   "metadata": {},
   "outputs": [
    {
     "name": "stdout",
     "output_type": "stream",
     "text": [
      "Fitting 5 folds for each of 120 candidates, totalling 600 fits\n",
      "best_params: {'classifier__criterion': 'gini', 'classifier__max_depth': None, 'classifier__min_samples_leaf': 1, 'classifier__min_samples_split': 8}\n",
      "              precision    recall  f1-score   support\n",
      "\n",
      "           0       0.86      0.93      0.89      5115\n",
      "           1       0.88      0.77      0.82      3443\n",
      "\n",
      "    accuracy                           0.87      8558\n",
      "   macro avg       0.87      0.85      0.86      8558\n",
      "weighted avg       0.87      0.87      0.86      8558\n",
      "\n"
     ]
    }
   ],
   "source": [
    "#Let's do the same but with Extra Trees model and compare.\n",
    "\n",
    "categorical_cols = X.select_dtypes(include='object').columns.tolist()\n",
    "\n",
    "numeric_cols = X.select_dtypes(include=['int64', 'float64']).columns.difference(['Destroyed'])\n",
    "\n",
    "original_columns = cal_fire_data.columns\n",
    "preprocessor = ColumnTransformer(\n",
    "    transformers=[\n",
    "        ('cat', OneHotEncoder(handle_unknown='ignore'), categorical_cols),\n",
    "        ('scaler', StandardScaler(), numeric_cols)\n",
    "    ],\n",
    "    remainder='passthrough'  \n",
    ")\n",
    "\n",
    "etpipeline = Pipeline(steps=[\n",
    "    ('preprocessor', preprocessor),\n",
    "    ('classifier', ExtraTreesClassifier(n_estimators=100, random_state=216))\n",
    "])\n",
    "\n",
    "param_grid = {\n",
    "    'classifier__criterion': ['gini'],\n",
    "    'classifier__max_depth': [5, 10, 15, 20, None],\n",
    "    'classifier__min_samples_split': [2, 4, 6, 8, 10, 12],\n",
    "    'classifier__min_samples_leaf': [1, 2, 4, 8]\n",
    "}\n",
    "\n",
    "grid_search_et = GridSearchCV(etpipeline, param_grid, cv=5, verbose=1, n_jobs=-1)\n",
    "grid_search_et.fit(X_train, y_train)\n",
    "\n",
    "print(\"best_params:\", grid_search_et.best_params_)\n",
    "y_etpred = grid_search_et.best_estimator_.predict(X_test)\n",
    "print(classification_report(y_test, y_etpred))\n",
    "\n"
   ]
  },
  {
   "cell_type": "code",
   "execution_count": null,
   "id": "8b18b054",
   "metadata": {},
   "outputs": [
    {
     "name": "stdout",
     "output_type": "stream",
     "text": [
      "The confusion matrix is \n",
      " [[4759  356]\n",
      " [ 788 2655]]\n",
      "The accuracy score is 0.8663239074550129 \n",
      "\n",
      "The precision score is 0.8817668548654932 \n",
      "\n",
      "The recall score is 0.7711298286378159 \n",
      "\n",
      "The f1 score is 0.8227455841338704 \n",
      "\n"
     ]
    }
   ],
   "source": [
    "best_et = grid_search_et.best_estimator_\n",
    "print('The confusion matrix is \\n', confusion_matrix(y_test.values, y_etpred))\n",
    "print('The accuracy score is', accuracy_score(y_test.values, y_etpred), '\\n')\n",
    "print('The precision score is', precision_score(y_test.values, y_etpred), '\\n')\n",
    "print('The recall score is', recall_score(y_test.values, y_etpred), '\\n')\n",
    "print('The f1 score is', f1_score(y_test.values, y_etpred), '\\n')\n"
   ]
  },
  {
   "cell_type": "markdown",
   "id": "25a7024f",
   "metadata": {},
   "source": [
    "It's clear that the regular Random Forest Classifier offers much better performance, so we won't investigate this model further."
   ]
  },
  {
   "cell_type": "code",
   "execution_count": 6,
   "id": "68369a6d",
   "metadata": {},
   "outputs": [
    {
     "data": {
      "text/html": [
       "<div>\n",
       "<style scoped>\n",
       "    .dataframe tbody tr th:only-of-type {\n",
       "        vertical-align: middle;\n",
       "    }\n",
       "\n",
       "    .dataframe tbody tr th {\n",
       "        vertical-align: top;\n",
       "    }\n",
       "\n",
       "    .dataframe thead th {\n",
       "        text-align: right;\n",
       "    }\n",
       "</style>\n",
       "<table border=\"1\" class=\"dataframe\">\n",
       "  <thead>\n",
       "    <tr style=\"text-align: right;\">\n",
       "      <th></th>\n",
       "      <th>feature</th>\n",
       "      <th>importance</th>\n",
       "    </tr>\n",
       "  </thead>\n",
       "  <tbody>\n",
       "    <tr>\n",
       "      <th>0</th>\n",
       "      <td>* Structure Type</td>\n",
       "      <td>0.061844</td>\n",
       "    </tr>\n",
       "    <tr>\n",
       "      <th>1</th>\n",
       "      <td>* Roof Construction</td>\n",
       "      <td>0.043108</td>\n",
       "    </tr>\n",
       "    <tr>\n",
       "      <th>2</th>\n",
       "      <td>* Eaves</td>\n",
       "      <td>0.026809</td>\n",
       "    </tr>\n",
       "    <tr>\n",
       "      <th>3</th>\n",
       "      <td>* Vent Screen</td>\n",
       "      <td>0.039496</td>\n",
       "    </tr>\n",
       "    <tr>\n",
       "      <th>4</th>\n",
       "      <td>* Exterior Siding</td>\n",
       "      <td>0.440180</td>\n",
       "    </tr>\n",
       "    <tr>\n",
       "      <th>5</th>\n",
       "      <td>* Window Pane</td>\n",
       "      <td>0.021306</td>\n",
       "    </tr>\n",
       "    <tr>\n",
       "      <th>6</th>\n",
       "      <td>* Deck/Porch On Grade</td>\n",
       "      <td>0.021559</td>\n",
       "    </tr>\n",
       "    <tr>\n",
       "      <th>7</th>\n",
       "      <td>* Deck/Porch Elevated</td>\n",
       "      <td>0.019803</td>\n",
       "    </tr>\n",
       "    <tr>\n",
       "      <th>8</th>\n",
       "      <td>* Patio Cover/Carport Attached to Structure</td>\n",
       "      <td>0.018768</td>\n",
       "    </tr>\n",
       "    <tr>\n",
       "      <th>9</th>\n",
       "      <td>* Fence Attached to Structure</td>\n",
       "      <td>0.032648</td>\n",
       "    </tr>\n",
       "    <tr>\n",
       "      <th>10</th>\n",
       "      <td>Assessed Improved Value (parcel)</td>\n",
       "      <td>0.027384</td>\n",
       "    </tr>\n",
       "    <tr>\n",
       "      <th>11</th>\n",
       "      <td>Latitude</td>\n",
       "      <td>0.021396</td>\n",
       "    </tr>\n",
       "    <tr>\n",
       "      <th>12</th>\n",
       "      <td>Longitude</td>\n",
       "      <td>0.128151</td>\n",
       "    </tr>\n",
       "    <tr>\n",
       "      <th>13</th>\n",
       "      <td>Age</td>\n",
       "      <td>0.097549</td>\n",
       "    </tr>\n",
       "  </tbody>\n",
       "</table>\n",
       "</div>"
      ],
      "text/plain": [
       "                                        feature  importance\n",
       "0                              * Structure Type    0.061844\n",
       "1                           * Roof Construction    0.043108\n",
       "2                                       * Eaves    0.026809\n",
       "3                                 * Vent Screen    0.039496\n",
       "4                             * Exterior Siding    0.440180\n",
       "5                                 * Window Pane    0.021306\n",
       "6                         * Deck/Porch On Grade    0.021559\n",
       "7                         * Deck/Porch Elevated    0.019803\n",
       "8   * Patio Cover/Carport Attached to Structure    0.018768\n",
       "9                 * Fence Attached to Structure    0.032648\n",
       "10             Assessed Improved Value (parcel)    0.027384\n",
       "11                                     Latitude    0.021396\n",
       "12                                    Longitude    0.128151\n",
       "13                                          Age    0.097549"
      ]
     },
     "metadata": {},
     "output_type": "display_data"
    }
   ],
   "source": [
    "from IPython.display import display\n",
    "\n",
    "# Use impurity-based feature importance (sum across all encodings for each feature)\n",
    "importances = np.zeros(14)\n",
    "importances[0] = np.sum(best_et['classifier'].feature_importances_[0:16])\n",
    "importances[1] = np.sum(best_et['classifier'].feature_importances_[16:22])\n",
    "importances[2] = np.sum(best_et['classifier'].feature_importances_[22:25])\n",
    "importances[3] = np.sum(best_et['classifier'].feature_importances_[25:29])\n",
    "importances[4] = np.sum(best_et['classifier'].feature_importances_[29:37])\n",
    "importances[5] = np.sum(best_et['classifier'].feature_importances_[37:40])\n",
    "importances[6] = np.sum(best_et['classifier'].feature_importances_[40:44])\n",
    "importances[7] = np.sum(best_et['classifier'].feature_importances_[44:48])\n",
    "importances[8] = np.sum(best_et['classifier'].feature_importances_[48:51])\n",
    "importances[9] = np.sum(best_et['classifier'].feature_importances_[51:54])\n",
    "importances[10:,] = best_et['classifier'].feature_importances_[54:58]\n",
    "\n",
    "# Create a new dataframe for feature importances across original feature columns and display it\n",
    "feature_df = pd.DataFrame({'feature': original_columns[:-1], 'importance': importances})\n",
    "display(feature_df)\n"
   ]
  },
  {
   "cell_type": "markdown",
   "id": "aa117434",
   "metadata": {},
   "source": [
    "For this model, the most important features were exterior siding and longitude."
   ]
  }
 ],
 "metadata": {
  "kernelspec": {
   "display_name": "erdos_spring_2025",
   "language": "python",
   "name": "python3"
  },
  "language_info": {
   "codemirror_mode": {
    "name": "ipython",
    "version": 3
   },
   "file_extension": ".py",
   "mimetype": "text/x-python",
   "name": "python",
   "nbconvert_exporter": "python",
   "pygments_lexer": "ipython3",
   "version": "3.12.8"
  }
 },
 "nbformat": 4,
 "nbformat_minor": 5
}
