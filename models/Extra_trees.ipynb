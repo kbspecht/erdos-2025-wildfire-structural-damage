{
 "cells": [
  {
   "cell_type": "markdown",
   "id": "4744b30e",
   "metadata": {},
   "source": [
    "Extra Trees Model for Building Destruction Classification"
   ]
  },
  {
   "cell_type": "code",
   "execution_count": 1,
   "id": "e35f4658",
   "metadata": {},
   "outputs": [],
   "source": [
    "#Import some basic packages\n",
    "import numpy as np\n",
    "import pandas as pd\n"
   ]
  },
  {
   "cell_type": "code",
   "execution_count": 2,
   "id": "c72209b4",
   "metadata": {},
   "outputs": [],
   "source": [
    "#Import sklearn packages\n",
    "from sklearn.model_selection import train_test_split, GridSearchCV\n",
    "from sklearn.pipeline import Pipeline\n",
    "from sklearn.compose import ColumnTransformer\n",
    "from sklearn.preprocessing import OneHotEncoder, StandardScaler\n",
    "from sklearn.ensemble import ExtraTreesClassifier\n",
    "from sklearn.metrics import classification_report, accuracy_score\n"
   ]
  },
  {
   "cell_type": "markdown",
   "id": "683e3b51",
   "metadata": {},
   "source": [
    "We start by reading data in from the cal_fire_data_cleaned CSV file:"
   ]
  },
  {
   "cell_type": "code",
   "execution_count": 3,
   "id": "66899d91",
   "metadata": {},
   "outputs": [
    {
     "name": "stdout",
     "output_type": "stream",
     "text": [
      "<class 'pandas.core.frame.DataFrame'>\n",
      "RangeIndex: 42789 entries, 0 to 42788\n",
      "Data columns (total 15 columns):\n",
      " #   Column                                       Non-Null Count  Dtype  \n",
      "---  ------                                       --------------  -----  \n",
      " 0   * Structure Type                             42789 non-null  object \n",
      " 1   * Roof Construction                          42789 non-null  object \n",
      " 2   * Eaves                                      42789 non-null  object \n",
      " 3   * Vent Screen                                42789 non-null  object \n",
      " 4   * Exterior Siding                            42789 non-null  object \n",
      " 5   * Window Pane                                42789 non-null  object \n",
      " 6   * Deck/Porch On Grade                        42789 non-null  object \n",
      " 7   * Deck/Porch Elevated                        42789 non-null  object \n",
      " 8   * Patio Cover/Carport Attached to Structure  42789 non-null  object \n",
      " 9   * Fence Attached to Structure                42789 non-null  object \n",
      " 10  Assessed Improved Value (parcel)             42789 non-null  float64\n",
      " 11  Latitude                                     42789 non-null  float64\n",
      " 12  Longitude                                    42789 non-null  float64\n",
      " 13  Age                                          42789 non-null  float64\n",
      " 14  Destroyed                                    42789 non-null  int64  \n",
      "dtypes: float64(4), int64(1), object(10)\n",
      "memory usage: 4.9+ MB\n"
     ]
    }
   ],
   "source": [
    "#Let's import the data and instantiate a train/test split with the seed we fixed.\n",
    "\n",
    "cal_fire_data = pd.read_csv('../data/cal_fire_data_cleaned.csv')\n",
    "cal_fire_data.info()\n"
   ]
  },
  {
   "cell_type": "markdown",
   "id": "7ee7085f",
   "metadata": {},
   "source": [
    "We set our feature and target variables and create a train/test split (80%/20%):"
   ]
  },
  {
   "cell_type": "code",
   "execution_count": 4,
   "id": "73dee39b",
   "metadata": {},
   "outputs": [],
   "source": [
    "\n",
    "X = cal_fire_data.drop(columns='Destroyed')\n",
    "y = cal_fire_data['Destroyed']\n",
    "X_train, X_test, y_train, y_test = train_test_split(X, y, test_size=.2, random_state=216, shuffle=True, stratify=y)\n"
   ]
  },
  {
   "cell_type": "markdown",
   "id": "aaa3f8fc",
   "metadata": {},
   "source": [
    "We create a pipeline for one-hot encoding the categorical variables, scaling the numeric variables, and running an extra trees model:"
   ]
  },
  {
   "cell_type": "code",
   "execution_count": 5,
   "id": "447f94ef",
   "metadata": {},
   "outputs": [],
   "source": [
    "categorical_cols = X.select_dtypes(include='object').columns.tolist()\n",
    "\n",
    "numeric_cols = X.select_dtypes(include=['int64', 'float64']).columns.difference(['Destroyed'])\n",
    "\n",
    "original_columns = cal_fire_data.columns\n",
    "preprocessor = ColumnTransformer(\n",
    "    transformers=[\n",
    "        ('cat', OneHotEncoder(handle_unknown='ignore'), categorical_cols),\n",
    "        ('scaler', StandardScaler(), numeric_cols)\n",
    "    ],\n",
    "    remainder='passthrough'  \n",
    ")\n",
    "\n",
    "etpipeline = Pipeline(steps=[\n",
    "    ('preprocessor', preprocessor),\n",
    "    ('classifier', ExtraTreesClassifier(n_estimators=100, random_state=216))\n",
    "])\n"
   ]
  },
  {
   "cell_type": "markdown",
   "id": "7024ac0b",
   "metadata": {},
   "source": [
    "We create a grid of hyperparameters that we want to test for our extra trees model:"
   ]
  },
  {
   "cell_type": "code",
   "execution_count": 6,
   "id": "e4142681",
   "metadata": {},
   "outputs": [],
   "source": [
    "param_grid = {\n",
    "    'classifier__criterion': ['gini'],\n",
    "    'classifier__max_depth': [5, 10, 15, 20, None],\n",
    "    'classifier__min_samples_split': [2, 4, 6, 8, 10, 12],\n",
    "    'classifier__min_samples_leaf': [1, 2, 4, 8]\n",
    "}\n"
   ]
  },
  {
   "cell_type": "markdown",
   "id": "d7d9dafe",
   "metadata": {},
   "source": [
    "For this model, we perform a grid search that trains an extra trees model on the features, determining the best hyperparameters from our grid to use by determining which gives the best accuracy under k-fold cross-validation. Then, we classify each test observation by applying the best extra trees model."
   ]
  },
  {
   "cell_type": "code",
   "execution_count": 7,
   "id": "7bb5a082",
   "metadata": {},
   "outputs": [
    {
     "name": "stdout",
     "output_type": "stream",
     "text": [
      "Fitting 5 folds for each of 120 candidates, totalling 600 fits\n",
      "best_params: {'classifier__criterion': 'gini', 'classifier__max_depth': None, 'classifier__min_samples_leaf': 1, 'classifier__min_samples_split': 8}\n"
     ]
    }
   ],
   "source": [
    "\n",
    "grid_search_et = GridSearchCV(etpipeline, param_grid, cv=5, verbose=1, n_jobs=-1)\n",
    "grid_search_et.fit(X_train, y_train)\n",
    "\n",
    "print(\"best_params:\", grid_search_et.best_params_)\n",
    "y_etpred = grid_search_et.best_estimator_.predict(X_test)\n"
   ]
  },
  {
   "cell_type": "markdown",
   "id": "c98988b1",
   "metadata": {},
   "source": [
    "Along with the prediction accuracy, we have a classification report that includes precision, recall, and f1 scores:"
   ]
  },
  {
   "cell_type": "code",
   "execution_count": 8,
   "id": "8c4078d4",
   "metadata": {},
   "outputs": [
    {
     "name": "stdout",
     "output_type": "stream",
     "text": [
      "accuracy:  0.8663239074550129\n",
      "\n",
      "report: \n",
      "\n",
      "              precision    recall  f1-score   support\n",
      "\n",
      "           0       0.86      0.93      0.89      5115\n",
      "           1       0.88      0.77      0.82      3443\n",
      "\n",
      "    accuracy                           0.87      8558\n",
      "   macro avg       0.87      0.85      0.86      8558\n",
      "weighted avg       0.87      0.87      0.86      8558\n",
      "\n"
     ]
    }
   ],
   "source": [
    "print(\"accuracy: \", accuracy_score(y_test, y_etpred))\n",
    "print(\"\\nreport: \\n\")\n",
    "print(classification_report(y_test, y_etpred))\n"
   ]
  },
  {
   "cell_type": "markdown",
   "id": "5f810e17",
   "metadata": {},
   "source": [
    "We also have a confusion matrix showing how the model performed across classes:"
   ]
  },
  {
   "cell_type": "code",
   "execution_count": 11,
   "id": "8b18b054",
   "metadata": {},
   "outputs": [
    {
     "data": {
      "image/png": "[encoded data removed]",
      "text/plain": [
       "<Figure size 1100x1100 with 2 Axes>"
      ]
     },
     "metadata": {},
     "output_type": "display_data"
    }
   ],
   "source": [
    "from sklearn.metrics import confusion_matrix\n",
    "from sklearn.metrics import ConfusionMatrixDisplay\n",
    "import matplotlib.pyplot as plt\n",
    "\n",
    "best_et = grid_search_et.best_estimator_\n",
    "cm = confusion_matrix(y_test, y_etpred)\n",
    "disp = ConfusionMatrixDisplay(confusion_matrix=cm, display_labels=['Not Destroyed', 'Destroyed'])\n",
    "fig, ax = plt.subplots(figsize=(11, 11), facecolor = ('#fffbf0'))\n",
    "disp.plot(ax=ax, cmap='YlOrRd')\n",
    "fig.autofmt_xdate()\n",
    "plt.title(\"Confusion Matrix of Extra Trees Classification Results for Building Destruction\")\n",
    "plt.show()\n"
   ]
  },
  {
   "cell_type": "markdown",
   "id": "25a7024f",
   "metadata": {},
   "source": [
    "It's clear that the regular Random Forest Classifier offers much better performance than this one, so we won't investigate feature removal."
   ]
  },
  {
   "cell_type": "markdown",
   "id": "234ef090",
   "metadata": {},
   "source": [
    "We display feature importances for this model:"
   ]
  },
  {
   "cell_type": "code",
   "execution_count": 12,
   "id": "68369a6d",
   "metadata": {},
   "outputs": [
    {
     "data": {
      "text/html": [
       "<div>\n",
       "<style scoped>\n",
       "    .dataframe tbody tr th:only-of-type {\n",
       "        vertical-align: middle;\n",
       "    }\n",
       "\n",
       "    .dataframe tbody tr th {\n",
       "        vertical-align: top;\n",
       "    }\n",
       "\n",
       "    .dataframe thead th {\n",
       "        text-align: right;\n",
       "    }\n",
       "</style>\n",
       "<table border=\"1\" class=\"dataframe\">\n",
       "  <thead>\n",
       "    <tr style=\"text-align: right;\">\n",
       "      <th></th>\n",
       "      <th>feature</th>\n",
       "      <th>importance</th>\n",
       "    </tr>\n",
       "  </thead>\n",
       "  <tbody>\n",
       "    <tr>\n",
       "      <th>0</th>\n",
       "      <td>* Structure Type</td>\n",
       "      <td>0.061844</td>\n",
       "    </tr>\n",
       "    <tr>\n",
       "      <th>1</th>\n",
       "      <td>* Roof Construction</td>\n",
       "      <td>0.043108</td>\n",
       "    </tr>\n",
       "    <tr>\n",
       "      <th>2</th>\n",
       "      <td>* Eaves</td>\n",
       "      <td>0.026809</td>\n",
       "    </tr>\n",
       "    <tr>\n",
       "      <th>3</th>\n",
       "      <td>* Vent Screen</td>\n",
       "      <td>0.039496</td>\n",
       "    </tr>\n",
       "    <tr>\n",
       "      <th>4</th>\n",
       "      <td>* Exterior Siding</td>\n",
       "      <td>0.440180</td>\n",
       "    </tr>\n",
       "    <tr>\n",
       "      <th>5</th>\n",
       "      <td>* Window Pane</td>\n",
       "      <td>0.021306</td>\n",
       "    </tr>\n",
       "    <tr>\n",
       "      <th>6</th>\n",
       "      <td>* Deck/Porch On Grade</td>\n",
       "      <td>0.021559</td>\n",
       "    </tr>\n",
       "    <tr>\n",
       "      <th>7</th>\n",
       "      <td>* Deck/Porch Elevated</td>\n",
       "      <td>0.019803</td>\n",
       "    </tr>\n",
       "    <tr>\n",
       "      <th>8</th>\n",
       "      <td>* Patio Cover/Carport Attached to Structure</td>\n",
       "      <td>0.018768</td>\n",
       "    </tr>\n",
       "    <tr>\n",
       "      <th>9</th>\n",
       "      <td>* Fence Attached to Structure</td>\n",
       "      <td>0.032648</td>\n",
       "    </tr>\n",
       "    <tr>\n",
       "      <th>10</th>\n",
       "      <td>Assessed Improved Value (parcel)</td>\n",
       "      <td>0.027384</td>\n",
       "    </tr>\n",
       "    <tr>\n",
       "      <th>11</th>\n",
       "      <td>Latitude</td>\n",
       "      <td>0.021396</td>\n",
       "    </tr>\n",
       "    <tr>\n",
       "      <th>12</th>\n",
       "      <td>Longitude</td>\n",
       "      <td>0.128151</td>\n",
       "    </tr>\n",
       "    <tr>\n",
       "      <th>13</th>\n",
       "      <td>Age</td>\n",
       "      <td>0.097549</td>\n",
       "    </tr>\n",
       "  </tbody>\n",
       "</table>\n",
       "</div>"
      ],
      "text/plain": [
       "                                        feature  importance\n",
       "0                              * Structure Type    0.061844\n",
       "1                           * Roof Construction    0.043108\n",
       "2                                       * Eaves    0.026809\n",
       "3                                 * Vent Screen    0.039496\n",
       "4                             * Exterior Siding    0.440180\n",
       "5                                 * Window Pane    0.021306\n",
       "6                         * Deck/Porch On Grade    0.021559\n",
       "7                         * Deck/Porch Elevated    0.019803\n",
       "8   * Patio Cover/Carport Attached to Structure    0.018768\n",
       "9                 * Fence Attached to Structure    0.032648\n",
       "10             Assessed Improved Value (parcel)    0.027384\n",
       "11                                     Latitude    0.021396\n",
       "12                                    Longitude    0.128151\n",
       "13                                          Age    0.097549"
      ]
     },
     "metadata": {},
     "output_type": "display_data"
    }
   ],
   "source": [
    "from IPython.display import display\n",
    "\n",
    "# Use impurity-based feature importance (sum across all encodings for each feature)\n",
    "importances = np.zeros(14)\n",
    "importances[0] = np.sum(best_et['classifier'].feature_importances_[0:16])\n",
    "importances[1] = np.sum(best_et['classifier'].feature_importances_[16:22])\n",
    "importances[2] = np.sum(best_et['classifier'].feature_importances_[22:25])\n",
    "importances[3] = np.sum(best_et['classifier'].feature_importances_[25:29])\n",
    "importances[4] = np.sum(best_et['classifier'].feature_importances_[29:37])\n",
    "importances[5] = np.sum(best_et['classifier'].feature_importances_[37:40])\n",
    "importances[6] = np.sum(best_et['classifier'].feature_importances_[40:44])\n",
    "importances[7] = np.sum(best_et['classifier'].feature_importances_[44:48])\n",
    "importances[8] = np.sum(best_et['classifier'].feature_importances_[48:51])\n",
    "importances[9] = np.sum(best_et['classifier'].feature_importances_[51:54])\n",
    "importances[10:,] = best_et['classifier'].feature_importances_[54:58]\n",
    "\n",
    "# Create a new dataframe for feature importances across original feature columns and display it\n",
    "feature_df = pd.DataFrame({'feature': original_columns[:-1], 'importance': importances})\n",
    "display(feature_df)\n"
   ]
  },
  {
   "cell_type": "markdown",
   "id": "aa117434",
   "metadata": {},
   "source": [
    "For this model, the most important features were exterior siding and longitude."
   ]
  }
 ],
 "metadata": {
  "kernelspec": {
   "display_name": "erdos_spring_2025",
   "language": "python",
   "name": "python3"
  },
  "language_info": {
   "codemirror_mode": {
    "name": "ipython",
    "version": 3
   },
   "file_extension": ".py",
   "mimetype": "text/x-python",
   "name": "python",
   "nbconvert_exporter": "python",
   "pygments_lexer": "ipython3",
   "version": "3.12.8"
  }
 },
 "nbformat": 4,
 "nbformat_minor": 5
}
