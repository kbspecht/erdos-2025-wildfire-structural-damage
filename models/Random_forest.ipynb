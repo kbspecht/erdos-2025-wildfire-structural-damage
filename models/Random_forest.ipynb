{
 "cells": [
  {
   "cell_type": "markdown",
   "id": "70bc8894",
   "metadata": {},
   "source": [
    "Random Forest Model for Building Destruction Classification"
   ]
  },
  {
   "cell_type": "code",
   "execution_count": 2,
   "id": "802a0ae3",
   "metadata": {},
   "outputs": [],
   "source": [
    "#Import some basic packages\n",
    "import numpy as np\n",
    "import pandas as pd\n"
   ]
  },
  {
   "cell_type": "code",
   "execution_count": 3,
   "id": "0f2c20da",
   "metadata": {},
   "outputs": [],
   "source": [
    "#Import sklearn packages\n",
    "from sklearn.model_selection import train_test_split, GridSearchCV\n",
    "from sklearn.pipeline import Pipeline\n",
    "from sklearn.compose import ColumnTransformer\n",
    "from sklearn.preprocessing import OneHotEncoder, StandardScaler\n",
    "from sklearn.tree import DecisionTreeClassifier\n",
    "from sklearn.ensemble import RandomForestClassifier\n",
    "from sklearn.metrics import classification_report, accuracy_score, f1_score, recall_score, precision_score, confusion_matrix\n"
   ]
  },
  {
   "cell_type": "code",
   "execution_count": 4,
   "id": "991447a4",
   "metadata": {},
   "outputs": [
    {
     "name": "stdout",
     "output_type": "stream",
     "text": [
      "<class 'pandas.core.frame.DataFrame'>\n",
      "RangeIndex: 42789 entries, 0 to 42788\n",
      "Data columns (total 15 columns):\n",
      " #   Column                                       Non-Null Count  Dtype  \n",
      "---  ------                                       --------------  -----  \n",
      " 0   * Structure Type                             42789 non-null  object \n",
      " 1   * Roof Construction                          42789 non-null  object \n",
      " 2   * Eaves                                      42789 non-null  object \n",
      " 3   * Vent Screen                                42789 non-null  object \n",
      " 4   * Exterior Siding                            42789 non-null  object \n",
      " 5   * Window Pane                                42789 non-null  object \n",
      " 6   * Deck/Porch On Grade                        42789 non-null  object \n",
      " 7   * Deck/Porch Elevated                        42789 non-null  object \n",
      " 8   * Patio Cover/Carport Attached to Structure  42789 non-null  object \n",
      " 9   * Fence Attached to Structure                42789 non-null  object \n",
      " 10  Assessed Improved Value (parcel)             42789 non-null  float64\n",
      " 11  Latitude                                     42789 non-null  float64\n",
      " 12  Longitude                                    42789 non-null  float64\n",
      " 13  Age                                          42789 non-null  float64\n",
      " 14  Destroyed                                    42789 non-null  int64  \n",
      "dtypes: float64(4), int64(1), object(10)\n",
      "memory usage: 4.9+ MB\n"
     ]
    }
   ],
   "source": [
    "#Let's import the data and instanciate a train/test split with the seed we fixed.\n",
    "\n",
    "cal_fire_data = pd.read_csv('../data/cal_fire_data_cleaned.csv')\n",
    "cal_fire_data.info()\n"
   ]
  },
  {
   "cell_type": "code",
   "execution_count": 5,
   "id": "c8a649bd",
   "metadata": {},
   "outputs": [
    {
     "data": {
      "text/plain": [
       "Destroyed\n",
       "0    0.59763\n",
       "1    0.40237\n",
       "Name: proportion, dtype: float64"
      ]
     },
     "execution_count": 5,
     "metadata": {},
     "output_type": "execute_result"
    }
   ],
   "source": [
    "from sklearn.model_selection import train_test_split\n",
    "fire_train, fire_test = train_test_split(cal_fire_data, test_size=.2, random_state=216, shuffle=True, stratify=cal_fire_data['Destroyed'])\n",
    "cal_fire_data['Destroyed'].value_counts(normalize=True)\n"
   ]
  },
  {
   "cell_type": "code",
   "execution_count": 6,
   "id": "b15a2f32",
   "metadata": {},
   "outputs": [
    {
     "name": "stdout",
     "output_type": "stream",
     "text": [
      "Fitting 5 folds for each of 120 candidates, totalling 600 fits\n",
      "best_params: {'classifier__criterion': 'gini', 'classifier__max_depth': None, 'classifier__min_samples_leaf': 1, 'classifier__min_samples_split': 4}\n",
      "              precision    recall  f1-score   support\n",
      "\n",
      "           0       0.88      0.95      0.91      5115\n",
      "           1       0.91      0.80      0.85      3443\n",
      "\n",
      "    accuracy                           0.89      8558\n",
      "   macro avg       0.89      0.88      0.88      8558\n",
      "weighted avg       0.89      0.89      0.89      8558\n",
      "\n"
     ]
    }
   ],
   "source": [
    "#Let's do a Random Forest Test\n",
    "\n",
    "X = cal_fire_data.drop(columns='Destroyed')\n",
    "y = cal_fire_data['Destroyed']\n",
    "\n",
    "categorical_cols = X.select_dtypes(include='object').columns.tolist()\n",
    "\n",
    "numeric_cols = X.select_dtypes(include=['int64', 'float64']).columns.difference(['Destroyed'])\n",
    "\n",
    "original_columns = cal_fire_data.columns\n",
    "preprocessor = ColumnTransformer(\n",
    "    transformers=[\n",
    "        ('cat', OneHotEncoder(handle_unknown='ignore'), categorical_cols),\n",
    "        ('scaler', StandardScaler(), numeric_cols)\n",
    "    ],\n",
    "    remainder='passthrough'  \n",
    ")\n",
    "\n",
    "rfpipeline = Pipeline(steps=[\n",
    "    ('preprocessor', preprocessor),\n",
    "    ('classifier', RandomForestClassifier(n_estimators=100, random_state=216))\n",
    "])\n",
    "\n",
    "param_grid = {\n",
    "    'classifier__criterion': ['gini'],\n",
    "    'classifier__max_depth': [5, 10, 15, 20, None],\n",
    "    'classifier__min_samples_split': [2, 4, 6, 8, 10, 12],\n",
    "    'classifier__min_samples_leaf': [1, 2, 4, 8]\n",
    "}\n",
    "\n",
    "X_train = fire_train.drop(columns='Destroyed')\n",
    "y_train = fire_train['Destroyed']\n",
    "\n",
    "X_test = fire_test.drop(columns='Destroyed')\n",
    "y_test = fire_test['Destroyed']\n",
    "\n",
    "\n",
    "grid_search_rf = GridSearchCV(rfpipeline, param_grid, cv=5, verbose=1, n_jobs=-1)\n",
    "grid_search_rf.fit(X_train, y_train)\n",
    "\n",
    "print(\"best_params:\", grid_search_rf.best_params_)\n",
    "y_rfpred = grid_search_rf.best_estimator_.predict(X_test)\n",
    "print(classification_report(y_test, y_rfpred))\n"
   ]
  },
  {
   "cell_type": "code",
   "execution_count": 7,
   "id": "4e735dbc",
   "metadata": {},
   "outputs": [
    {
     "name": "stdout",
     "output_type": "stream",
     "text": [
      "The confusion matrix is \n",
      " [[4841  274]\n",
      " [ 673 2770]]\n",
      "The accuracy score is 0.8893433045103997 \n",
      "\n",
      "The precision score is 0.9099868593955321 \n",
      "\n",
      "The recall score is 0.8045309323264594 \n",
      "\n",
      "The f1 score is 0.8540157237552027 \n",
      "\n"
     ]
    }
   ],
   "source": [
    "best_rf = grid_search_rf.best_estimator_\n",
    "print('The confusion matrix is \\n', confusion_matrix(y_test.values, y_rfpred))\n",
    "print('The accuracy score is', accuracy_score(y_test.values, y_rfpred), '\\n')\n",
    "print('The precision score is', precision_score(y_test.values, y_rfpred), '\\n')\n",
    "print('The recall score is', recall_score(y_test.values, y_rfpred), '\\n')\n",
    "print('The f1 score is', f1_score(y_test.values, y_rfpred), '\\n')\n"
   ]
  },
  {
   "cell_type": "code",
   "execution_count": 8,
   "id": "a9b30bd9",
   "metadata": {},
   "outputs": [
    {
     "data": {
      "text/html": [
       "<div>\n",
       "<style scoped>\n",
       "    .dataframe tbody tr th:only-of-type {\n",
       "        vertical-align: middle;\n",
       "    }\n",
       "\n",
       "    .dataframe tbody tr th {\n",
       "        vertical-align: top;\n",
       "    }\n",
       "\n",
       "    .dataframe thead th {\n",
       "        text-align: right;\n",
       "    }\n",
       "</style>\n",
       "<table border=\"1\" class=\"dataframe\">\n",
       "  <thead>\n",
       "    <tr style=\"text-align: right;\">\n",
       "      <th></th>\n",
       "      <th>feature</th>\n",
       "      <th>importance</th>\n",
       "    </tr>\n",
       "  </thead>\n",
       "  <tbody>\n",
       "    <tr>\n",
       "      <th>0</th>\n",
       "      <td>* Structure Type</td>\n",
       "      <td>0.039653</td>\n",
       "    </tr>\n",
       "    <tr>\n",
       "      <th>1</th>\n",
       "      <td>* Roof Construction</td>\n",
       "      <td>0.029040</td>\n",
       "    </tr>\n",
       "    <tr>\n",
       "      <th>2</th>\n",
       "      <td>* Eaves</td>\n",
       "      <td>0.022398</td>\n",
       "    </tr>\n",
       "    <tr>\n",
       "      <th>3</th>\n",
       "      <td>* Vent Screen</td>\n",
       "      <td>0.028771</td>\n",
       "    </tr>\n",
       "    <tr>\n",
       "      <th>4</th>\n",
       "      <td>* Exterior Siding</td>\n",
       "      <td>0.228754</td>\n",
       "    </tr>\n",
       "    <tr>\n",
       "      <th>5</th>\n",
       "      <td>* Window Pane</td>\n",
       "      <td>0.019201</td>\n",
       "    </tr>\n",
       "    <tr>\n",
       "      <th>6</th>\n",
       "      <td>* Deck/Porch On Grade</td>\n",
       "      <td>0.018017</td>\n",
       "    </tr>\n",
       "    <tr>\n",
       "      <th>7</th>\n",
       "      <td>* Deck/Porch Elevated</td>\n",
       "      <td>0.016117</td>\n",
       "    </tr>\n",
       "    <tr>\n",
       "      <th>8</th>\n",
       "      <td>* Patio Cover/Carport Attached to Structure</td>\n",
       "      <td>0.015839</td>\n",
       "    </tr>\n",
       "    <tr>\n",
       "      <th>9</th>\n",
       "      <td>* Fence Attached to Structure</td>\n",
       "      <td>0.022652</td>\n",
       "    </tr>\n",
       "    <tr>\n",
       "      <th>10</th>\n",
       "      <td>Assessed Improved Value (parcel)</td>\n",
       "      <td>0.056101</td>\n",
       "    </tr>\n",
       "    <tr>\n",
       "      <th>11</th>\n",
       "      <td>Latitude</td>\n",
       "      <td>0.062827</td>\n",
       "    </tr>\n",
       "    <tr>\n",
       "      <th>12</th>\n",
       "      <td>Longitude</td>\n",
       "      <td>0.269780</td>\n",
       "    </tr>\n",
       "    <tr>\n",
       "      <th>13</th>\n",
       "      <td>Age</td>\n",
       "      <td>0.170848</td>\n",
       "    </tr>\n",
       "  </tbody>\n",
       "</table>\n",
       "</div>"
      ],
      "text/plain": [
       "                                        feature  importance\n",
       "0                              * Structure Type    0.039653\n",
       "1                           * Roof Construction    0.029040\n",
       "2                                       * Eaves    0.022398\n",
       "3                                 * Vent Screen    0.028771\n",
       "4                             * Exterior Siding    0.228754\n",
       "5                                 * Window Pane    0.019201\n",
       "6                         * Deck/Porch On Grade    0.018017\n",
       "7                         * Deck/Porch Elevated    0.016117\n",
       "8   * Patio Cover/Carport Attached to Structure    0.015839\n",
       "9                 * Fence Attached to Structure    0.022652\n",
       "10             Assessed Improved Value (parcel)    0.056101\n",
       "11                                     Latitude    0.062827\n",
       "12                                    Longitude    0.269780\n",
       "13                                          Age    0.170848"
      ]
     },
     "metadata": {},
     "output_type": "display_data"
    }
   ],
   "source": [
    "from IPython.display import display\n",
    "\n",
    "# Use impurity-based feature importance (sum across all encodings for each feature)\n",
    "importances = np.zeros(14)\n",
    "importances[0] = np.sum(best_rf['classifier'].feature_importances_[0:16])\n",
    "importances[1] = np.sum(best_rf['classifier'].feature_importances_[16:22])\n",
    "importances[2] = np.sum(best_rf['classifier'].feature_importances_[22:25])\n",
    "importances[3] = np.sum(best_rf['classifier'].feature_importances_[25:29])\n",
    "importances[4] = np.sum(best_rf['classifier'].feature_importances_[29:37])\n",
    "importances[5] = np.sum(best_rf['classifier'].feature_importances_[37:40])\n",
    "importances[6] = np.sum(best_rf['classifier'].feature_importances_[40:44])\n",
    "importances[7] = np.sum(best_rf['classifier'].feature_importances_[44:48])\n",
    "importances[8] = np.sum(best_rf['classifier'].feature_importances_[48:51])\n",
    "importances[9] = np.sum(best_rf['classifier'].feature_importances_[51:54])\n",
    "importances[10:,] = best_rf['classifier'].feature_importances_[54:58]\n",
    "\n",
    "# Create a new dataframe for feature importances across original feature columns and display it\n",
    "feature_df = pd.DataFrame({'feature': original_columns[:-1], 'importance': importances})\n",
    "display(feature_df)\n"
   ]
  },
  {
   "cell_type": "markdown",
   "id": "d8b4ecb6",
   "metadata": {},
   "source": [
    "For this model, the most important features were longitude, exterior siding, and age."
   ]
  },
  {
   "cell_type": "markdown",
   "id": "7d4b8fe9",
   "metadata": {},
   "source": [
    "Let's do some cross validation to test if we can increase performance by removing features."
   ]
  },
  {
   "cell_type": "code",
   "execution_count": null,
   "id": "69ddf880",
   "metadata": {},
   "outputs": [],
   "source": [
    "from sklearn.model_selection import StratifiedKFold\n",
    "n_splits = 5\n",
    "kfold = StratifiedKFold(n_splits,\n",
    "                            shuffle=True,\n",
    "                            random_state=216)\n",
    "\n",
    "y = fire_train['Destroyed']\n",
    "\n",
    "avg_Accs = []\n",
    "for c in cal_fire_data.columns[:-1]:   \n",
    "    X = fire_train.drop(columns=['Destroyed',c])\n",
    "\n",
    "    categorical_cols = X.select_dtypes(include='object').columns.tolist()\n",
    "\n",
    "    numeric_cols = X.select_dtypes(include=['int64', 'float64']).columns.difference(['Destroyed'])\n",
    "\n",
    "    preprocessor = ColumnTransformer(\n",
    "        transformers=[\n",
    "            ('cat', OneHotEncoder(handle_unknown='ignore'), categorical_cols),\n",
    "            ('scaler', StandardScaler(), numeric_cols)\n",
    "        ],\n",
    "        remainder='passthrough'  \n",
    "    )\n",
    "\n",
    "    rfpipeline = Pipeline(steps=[\n",
    "        ('preprocessor', preprocessor),\n",
    "        ('classifier', RandomForestClassifier(n_estimators=8, random_state=216))\n",
    "    ])\n",
    "\n",
    "    param_grid = {\n",
    "        'classifier__criterion': ['gini'],\n",
    "        'classifier__max_depth': [5, 10, 15, 20, None],\n",
    "        'classifier__min_samples_split': [2, 4, 6, 8, 10, 12],\n",
    "        'classifier__min_samples_leaf': [1, 2, 4, 8]\n",
    "    }\n",
    "\n",
    "    accuracies = []\n",
    "\n",
    "    for train_index, test_index in kfold.split(X,y):\n",
    "        X_tt = X.iloc[train_index]\n",
    "        y_tt = y.iloc[train_index]\n",
    "        X_ho = X.iloc[test_index]\n",
    "        y_ho = y.iloc[test_index]\n",
    "        \n",
    "        grid_search_rf = GridSearchCV(rfpipeline, param_grid, cv=5, verbose=1, n_jobs=-1)\n",
    "        grid_search_rf.fit(X_tt, y_tt)\n",
    "\n",
    "        y_rfpred = grid_search_rf.best_estimator_.predict(X_ho)\n",
    "        accuracies += [accuracy_score(y_ho, y_rfpred)]\n",
    "    print('The avg accuracy when removing column', c, 'is', np.mean(accuracies),'\\n')\n",
    "    avg_Accs += [np.mean(accuracies)]\n",
    "\n",
    "print('The maximum accuracy is', np.max(avg_Accs), 'and is attained when we remove column', cal_fire_data.columns[np.argmax(avg_Accs)])\n"
   ]
  },
  {
   "cell_type": "markdown",
   "id": "409badc2",
   "metadata": {},
   "source": [
    "Removing any feature seams to decrease accuracy of the model. Let's keep them all then."
   ]
  }
 ],
 "metadata": {
  "kernelspec": {
   "display_name": "erdos_spring_2025",
   "language": "python",
   "name": "python3"
  },
  "language_info": {
   "codemirror_mode": {
    "name": "ipython",
    "version": 3
   },
   "file_extension": ".py",
   "mimetype": "text/x-python",
   "name": "python",
   "nbconvert_exporter": "python",
   "pygments_lexer": "ipython3",
   "version": "3.12.8"
  }
 },
 "nbformat": 4,
 "nbformat_minor": 5
}
