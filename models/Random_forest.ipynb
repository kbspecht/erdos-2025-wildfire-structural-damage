{
 "cells": [
  {
   "cell_type": "markdown",
   "id": "70bc8894",
   "metadata": {},
   "source": [
    "Random Forest Model for Building Destruction Classification"
   ]
  },
  {
   "cell_type": "code",
   "execution_count": 1,
   "id": "802a0ae3",
   "metadata": {},
   "outputs": [],
   "source": [
    "#Import some basic packages\n",
    "import numpy as np\n",
    "import pandas as pd\n"
   ]
  },
  {
   "cell_type": "code",
   "execution_count": 2,
   "id": "0f2c20da",
   "metadata": {},
   "outputs": [],
   "source": [
    "#Import sklearn packages\n",
    "from sklearn.model_selection import train_test_split, GridSearchCV\n",
    "from sklearn.pipeline import Pipeline\n",
    "from sklearn.compose import ColumnTransformer\n",
    "from sklearn.preprocessing import OneHotEncoder, StandardScaler\n",
    "from sklearn.ensemble import RandomForestClassifier\n",
    "from sklearn.metrics import classification_report, accuracy_score\n"
   ]
  },
  {
   "cell_type": "markdown",
   "id": "fd0372fc",
   "metadata": {},
   "source": [
    "We start by reading data in from the cal_fire_data_cleaned CSV file:"
   ]
  },
  {
   "cell_type": "code",
   "execution_count": 3,
   "id": "991447a4",
   "metadata": {},
   "outputs": [
    {
     "name": "stdout",
     "output_type": "stream",
     "text": [
      "<class 'pandas.core.frame.DataFrame'>\n",
      "RangeIndex: 42789 entries, 0 to 42788\n",
      "Data columns (total 15 columns):\n",
      " #   Column                                       Non-Null Count  Dtype  \n",
      "---  ------                                       --------------  -----  \n",
      " 0   * Structure Type                             42789 non-null  object \n",
      " 1   * Roof Construction                          42789 non-null  object \n",
      " 2   * Eaves                                      42789 non-null  object \n",
      " 3   * Vent Screen                                42789 non-null  object \n",
      " 4   * Exterior Siding                            42789 non-null  object \n",
      " 5   * Window Pane                                42789 non-null  object \n",
      " 6   * Deck/Porch On Grade                        42789 non-null  object \n",
      " 7   * Deck/Porch Elevated                        42789 non-null  object \n",
      " 8   * Patio Cover/Carport Attached to Structure  42789 non-null  object \n",
      " 9   * Fence Attached to Structure                42789 non-null  object \n",
      " 10  Assessed Improved Value (parcel)             42789 non-null  float64\n",
      " 11  Latitude                                     42789 non-null  float64\n",
      " 12  Longitude                                    42789 non-null  float64\n",
      " 13  Age                                          42789 non-null  float64\n",
      " 14  Destroyed                                    42789 non-null  int64  \n",
      "dtypes: float64(4), int64(1), object(10)\n",
      "memory usage: 4.9+ MB\n"
     ]
    }
   ],
   "source": [
    "#Let's import the data and instantiate a train/test split with the seed we fixed.\n",
    "\n",
    "cal_fire_data = pd.read_csv('../data/cal_fire_data_cleaned.csv')\n",
    "cal_fire_data.info()\n"
   ]
  },
  {
   "cell_type": "markdown",
   "id": "5999548f",
   "metadata": {},
   "source": [
    "We create a train/test split (80%/20%):"
   ]
  },
  {
   "cell_type": "code",
   "execution_count": 4,
   "id": "c8a649bd",
   "metadata": {},
   "outputs": [
    {
     "data": {
      "text/plain": [
       "Destroyed\n",
       "0    0.59763\n",
       "1    0.40237\n",
       "Name: proportion, dtype: float64"
      ]
     },
     "execution_count": 4,
     "metadata": {},
     "output_type": "execute_result"
    }
   ],
   "source": [
    "fire_train, fire_test = train_test_split(cal_fire_data, test_size=.2, random_state=216, shuffle=True, stratify=cal_fire_data['Destroyed'])\n",
    "cal_fire_data['Destroyed'].value_counts(normalize=True)\n"
   ]
  },
  {
   "cell_type": "markdown",
   "id": "6903d4b9",
   "metadata": {},
   "source": [
    "We set our feature and target variables and then create a pipeline for one-hot encoding the categorical variables, scaling the numeric variables, and running a random forest model:"
   ]
  },
  {
   "cell_type": "code",
   "execution_count": 5,
   "id": "b15a2f32",
   "metadata": {},
   "outputs": [],
   "source": [
    "#Let's do a Random Forest Test\n",
    "\n",
    "X = cal_fire_data.drop(columns='Destroyed')\n",
    "y = cal_fire_data['Destroyed']\n",
    "\n",
    "categorical_cols = X.select_dtypes(include='object').columns.tolist()\n",
    "\n",
    "numeric_cols = X.select_dtypes(include=['int64', 'float64']).columns.difference(['Destroyed'])\n",
    "\n",
    "original_columns = cal_fire_data.columns\n",
    "preprocessor = ColumnTransformer(\n",
    "    transformers=[\n",
    "        ('cat', OneHotEncoder(handle_unknown='ignore'), categorical_cols),\n",
    "        ('scaler', StandardScaler(), numeric_cols)\n",
    "    ],\n",
    "    remainder='passthrough'  \n",
    ")\n",
    "\n",
    "rfpipeline = Pipeline(steps=[\n",
    "    ('preprocessor', preprocessor),\n",
    "    ('classifier', RandomForestClassifier(n_estimators=100, random_state=216))\n",
    "])\n"
   ]
  },
  {
   "cell_type": "markdown",
   "id": "d195fa5b",
   "metadata": {},
   "source": [
    "We create a grid of hyperparameters that we want to test for our random forest model:"
   ]
  },
  {
   "cell_type": "code",
   "execution_count": 6,
   "id": "11990061",
   "metadata": {},
   "outputs": [],
   "source": [
    "\n",
    "param_grid = {\n",
    "    'classifier__criterion': ['gini'],\n",
    "    'classifier__max_depth': [5, 10, 15, 20, None],\n",
    "    'classifier__min_samples_split': [2, 4, 6, 8, 10, 12],\n",
    "    'classifier__min_samples_leaf': [1, 2, 4, 8]\n",
    "}\n"
   ]
  },
  {
   "cell_type": "markdown",
   "id": "10bfacf8",
   "metadata": {},
   "source": [
    "For this model, we perform a grid search that trains an extra trees model on the features, determining the best hyperparameters from our grid to use by determining which gives the best accuracy under k-fold cross-validation. Then, we classify each test observation by applying the best extra trees model."
   ]
  },
  {
   "cell_type": "code",
   "execution_count": 7,
   "id": "0d601cb7",
   "metadata": {},
   "outputs": [
    {
     "name": "stdout",
     "output_type": "stream",
     "text": [
      "Fitting 5 folds for each of 120 candidates, totalling 600 fits\n",
      "best_params: {'classifier__criterion': 'gini', 'classifier__max_depth': None, 'classifier__min_samples_leaf': 1, 'classifier__min_samples_split': 4}\n"
     ]
    }
   ],
   "source": [
    "X_train = fire_train.drop(columns='Destroyed')\n",
    "y_train = fire_train['Destroyed']\n",
    "\n",
    "X_test = fire_test.drop(columns='Destroyed')\n",
    "y_test = fire_test['Destroyed']\n",
    "\n",
    "grid_search_rf = GridSearchCV(rfpipeline, param_grid, cv=5, verbose=1, n_jobs=-1)\n",
    "grid_search_rf.fit(X_train, y_train)\n",
    "\n",
    "print(\"best_params:\", grid_search_rf.best_params_)\n",
    "y_rfpred = grid_search_rf.best_estimator_.predict(X_test)\n"
   ]
  },
  {
   "cell_type": "markdown",
   "id": "dd22967a",
   "metadata": {},
   "source": [
    "Along with the prediction accuracy, we have a classification report that includes precision, recall, and f1 scores:"
   ]
  },
  {
   "cell_type": "code",
   "execution_count": 8,
   "id": "05e44740",
   "metadata": {},
   "outputs": [
    {
     "name": "stdout",
     "output_type": "stream",
     "text": [
      "accuracy:  0.8893433045103997\n",
      "\n",
      "report: \n",
      "\n",
      "              precision    recall  f1-score   support\n",
      "\n",
      "           0       0.88      0.95      0.91      5115\n",
      "           1       0.91      0.80      0.85      3443\n",
      "\n",
      "    accuracy                           0.89      8558\n",
      "   macro avg       0.89      0.88      0.88      8558\n",
      "weighted avg       0.89      0.89      0.89      8558\n",
      "\n"
     ]
    }
   ],
   "source": [
    "print(\"accuracy: \", accuracy_score(y_test, y_rfpred))\n",
    "print(\"\\nreport: \\n\")\n",
    "print(classification_report(y_test, y_rfpred))\n"
   ]
  },
  {
   "cell_type": "markdown",
   "id": "fe4f52c4",
   "metadata": {},
   "source": [
    "We also have a confusion matrix showing how the model performed across classes:"
   ]
  },
  {
   "cell_type": "code",
   "execution_count": 9,
   "id": "4e735dbc",
   "metadata": {},
   "outputs": [
    {
     "data": {
      "image/png": "[encoded data removed]",
      "text/plain": [
       "<Figure size 1100x1100 with 2 Axes>"
      ]
     },
     "metadata": {},
     "output_type": "display_data"
    }
   ],
   "source": [
    "from sklearn.metrics import confusion_matrix\n",
    "from sklearn.metrics import ConfusionMatrixDisplay\n",
    "import matplotlib.pyplot as plt\n",
    "\n",
    "best_rf = grid_search_rf.best_estimator_\n",
    "cm = confusion_matrix(y_test, y_rfpred)\n",
    "disp = ConfusionMatrixDisplay(confusion_matrix=cm, display_labels=['Not Destroyed', 'Destroyed'])\n",
    "fig, ax = plt.subplots(figsize=(11, 11), facecolor = ('#fffbf0'))\n",
    "disp.plot(ax=ax, cmap='YlOrRd')\n",
    "fig.autofmt_xdate()\n",
    "plt.title(\"Confusion Matrix of Random Forest Classification Results for Building Destruction\")\n",
    "plt.show()\n"
   ]
  },
  {
   "cell_type": "markdown",
   "id": "467a8bf0",
   "metadata": {},
   "source": [
    "We display feature importances for this model:"
   ]
  },
  {
   "cell_type": "code",
   "execution_count": 10,
   "id": "a9b30bd9",
   "metadata": {},
   "outputs": [
    {
     "data": {
      "text/html": [
       "<div>\n",
       "<style scoped>\n",
       "    .dataframe tbody tr th:only-of-type {\n",
       "        vertical-align: middle;\n",
       "    }\n",
       "\n",
       "    .dataframe tbody tr th {\n",
       "        vertical-align: top;\n",
       "    }\n",
       "\n",
       "    .dataframe thead th {\n",
       "        text-align: right;\n",
       "    }\n",
       "</style>\n",
       "<table border=\"1\" class=\"dataframe\">\n",
       "  <thead>\n",
       "    <tr style=\"text-align: right;\">\n",
       "      <th></th>\n",
       "      <th>feature</th>\n",
       "      <th>importance</th>\n",
       "    </tr>\n",
       "  </thead>\n",
       "  <tbody>\n",
       "    <tr>\n",
       "      <th>0</th>\n",
       "      <td>* Structure Type</td>\n",
       "      <td>0.039653</td>\n",
       "    </tr>\n",
       "    <tr>\n",
       "      <th>1</th>\n",
       "      <td>* Roof Construction</td>\n",
       "      <td>0.029040</td>\n",
       "    </tr>\n",
       "    <tr>\n",
       "      <th>2</th>\n",
       "      <td>* Eaves</td>\n",
       "      <td>0.022398</td>\n",
       "    </tr>\n",
       "    <tr>\n",
       "      <th>3</th>\n",
       "      <td>* Vent Screen</td>\n",
       "      <td>0.028771</td>\n",
       "    </tr>\n",
       "    <tr>\n",
       "      <th>4</th>\n",
       "      <td>* Exterior Siding</td>\n",
       "      <td>0.228754</td>\n",
       "    </tr>\n",
       "    <tr>\n",
       "      <th>5</th>\n",
       "      <td>* Window Pane</td>\n",
       "      <td>0.019201</td>\n",
       "    </tr>\n",
       "    <tr>\n",
       "      <th>6</th>\n",
       "      <td>* Deck/Porch On Grade</td>\n",
       "      <td>0.018017</td>\n",
       "    </tr>\n",
       "    <tr>\n",
       "      <th>7</th>\n",
       "      <td>* Deck/Porch Elevated</td>\n",
       "      <td>0.016117</td>\n",
       "    </tr>\n",
       "    <tr>\n",
       "      <th>8</th>\n",
       "      <td>* Patio Cover/Carport Attached to Structure</td>\n",
       "      <td>0.015839</td>\n",
       "    </tr>\n",
       "    <tr>\n",
       "      <th>9</th>\n",
       "      <td>* Fence Attached to Structure</td>\n",
       "      <td>0.022652</td>\n",
       "    </tr>\n",
       "    <tr>\n",
       "      <th>10</th>\n",
       "      <td>Assessed Improved Value (parcel)</td>\n",
       "      <td>0.056101</td>\n",
       "    </tr>\n",
       "    <tr>\n",
       "      <th>11</th>\n",
       "      <td>Latitude</td>\n",
       "      <td>0.062827</td>\n",
       "    </tr>\n",
       "    <tr>\n",
       "      <th>12</th>\n",
       "      <td>Longitude</td>\n",
       "      <td>0.269780</td>\n",
       "    </tr>\n",
       "    <tr>\n",
       "      <th>13</th>\n",
       "      <td>Age</td>\n",
       "      <td>0.170848</td>\n",
       "    </tr>\n",
       "  </tbody>\n",
       "</table>\n",
       "</div>"
      ],
      "text/plain": [
       "                                        feature  importance\n",
       "0                              * Structure Type    0.039653\n",
       "1                           * Roof Construction    0.029040\n",
       "2                                       * Eaves    0.022398\n",
       "3                                 * Vent Screen    0.028771\n",
       "4                             * Exterior Siding    0.228754\n",
       "5                                 * Window Pane    0.019201\n",
       "6                         * Deck/Porch On Grade    0.018017\n",
       "7                         * Deck/Porch Elevated    0.016117\n",
       "8   * Patio Cover/Carport Attached to Structure    0.015839\n",
       "9                 * Fence Attached to Structure    0.022652\n",
       "10             Assessed Improved Value (parcel)    0.056101\n",
       "11                                     Latitude    0.062827\n",
       "12                                    Longitude    0.269780\n",
       "13                                          Age    0.170848"
      ]
     },
     "metadata": {},
     "output_type": "display_data"
    }
   ],
   "source": [
    "from IPython.display import display\n",
    "\n",
    "# Use impurity-based feature importance (sum across all encodings for each feature)\n",
    "importances = np.zeros(14)\n",
    "importances[0] = np.sum(best_rf['classifier'].feature_importances_[0:16])\n",
    "importances[1] = np.sum(best_rf['classifier'].feature_importances_[16:22])\n",
    "importances[2] = np.sum(best_rf['classifier'].feature_importances_[22:25])\n",
    "importances[3] = np.sum(best_rf['classifier'].feature_importances_[25:29])\n",
    "importances[4] = np.sum(best_rf['classifier'].feature_importances_[29:37])\n",
    "importances[5] = np.sum(best_rf['classifier'].feature_importances_[37:40])\n",
    "importances[6] = np.sum(best_rf['classifier'].feature_importances_[40:44])\n",
    "importances[7] = np.sum(best_rf['classifier'].feature_importances_[44:48])\n",
    "importances[8] = np.sum(best_rf['classifier'].feature_importances_[48:51])\n",
    "importances[9] = np.sum(best_rf['classifier'].feature_importances_[51:54])\n",
    "importances[10:,] = best_rf['classifier'].feature_importances_[54:58]\n",
    "\n",
    "# Create a new dataframe for feature importances across original feature columns and display it\n",
    "feature_df = pd.DataFrame({'feature': original_columns[:-1], 'importance': importances})\n",
    "display(feature_df)\n"
   ]
  },
  {
   "cell_type": "markdown",
   "id": "d8b4ecb6",
   "metadata": {},
   "source": [
    "For this model, the most important features were longitude, exterior siding, and age."
   ]
  },
  {
   "cell_type": "markdown",
   "id": "7d4b8fe9",
   "metadata": {},
   "source": [
    "Let's do some cross validation to test if we can increase performance by removing features."
   ]
  },
  {
   "cell_type": "code",
   "execution_count": 11,
   "id": "69ddf880",
   "metadata": {},
   "outputs": [
    {
     "name": "stdout",
     "output_type": "stream",
     "text": [
      "Fitting 5 folds for each of 120 candidates, totalling 600 fits\n",
      "Fitting 5 folds for each of 120 candidates, totalling 600 fits\n",
      "Fitting 5 folds for each of 120 candidates, totalling 600 fits\n",
      "Fitting 5 folds for each of 120 candidates, totalling 600 fits\n",
      "Fitting 5 folds for each of 120 candidates, totalling 600 fits\n",
      "The avg accuracy when removing column * Structure Type is 0.8841401696724122 \n",
      "\n",
      "Fitting 5 folds for each of 120 candidates, totalling 600 fits\n",
      "Fitting 5 folds for each of 120 candidates, totalling 600 fits\n",
      "Fitting 5 folds for each of 120 candidates, totalling 600 fits\n",
      "Fitting 5 folds for each of 120 candidates, totalling 600 fits\n",
      "Fitting 5 folds for each of 120 candidates, totalling 600 fits\n",
      "The avg accuracy when removing column * Roof Construction is 0.8824165525002666 \n",
      "\n",
      "Fitting 5 folds for each of 120 candidates, totalling 600 fits\n",
      "Fitting 5 folds for each of 120 candidates, totalling 600 fits\n",
      "Fitting 5 folds for each of 120 candidates, totalling 600 fits\n",
      "Fitting 5 folds for each of 120 candidates, totalling 600 fits\n",
      "Fitting 5 folds for each of 120 candidates, totalling 600 fits\n",
      "The avg accuracy when removing column * Eaves is 0.8809559479190441 \n",
      "\n",
      "Fitting 5 folds for each of 120 candidates, totalling 600 fits\n",
      "Fitting 5 folds for each of 120 candidates, totalling 600 fits\n",
      "Fitting 5 folds for each of 120 candidates, totalling 600 fits\n",
      "Fitting 5 folds for each of 120 candidates, totalling 600 fits\n",
      "Fitting 5 folds for each of 120 candidates, totalling 600 fits\n",
      "The avg accuracy when removing column * Vent Screen is 0.8784435489765215 \n",
      "\n",
      "Fitting 5 folds for each of 120 candidates, totalling 600 fits\n",
      "Fitting 5 folds for each of 120 candidates, totalling 600 fits\n",
      "Fitting 5 folds for each of 120 candidates, totalling 600 fits\n",
      "Fitting 5 folds for each of 120 candidates, totalling 600 fits\n",
      "Fitting 5 folds for each of 120 candidates, totalling 600 fits\n",
      "The avg accuracy when removing column * Exterior Siding is 0.8788525042644665 \n",
      "\n",
      "Fitting 5 folds for each of 120 candidates, totalling 600 fits\n",
      "Fitting 5 folds for each of 120 candidates, totalling 600 fits\n",
      "Fitting 5 folds for each of 120 candidates, totalling 600 fits\n",
      "Fitting 5 folds for each of 120 candidates, totalling 600 fits\n",
      "Fitting 5 folds for each of 120 candidates, totalling 600 fits\n",
      "The avg accuracy when removing column * Window Pane is 0.8805761001030794 \n",
      "\n",
      "Fitting 5 folds for each of 120 candidates, totalling 600 fits\n",
      "Fitting 5 folds for each of 120 candidates, totalling 600 fits\n",
      "Fitting 5 folds for each of 120 candidates, totalling 600 fits\n",
      "Fitting 5 folds for each of 120 candidates, totalling 600 fits\n",
      "Fitting 5 folds for each of 120 candidates, totalling 600 fits\n",
      "The avg accuracy when removing column * Deck/Porch On Grade is 0.8840232789801854 \n",
      "\n",
      "Fitting 5 folds for each of 120 candidates, totalling 600 fits\n",
      "Fitting 5 folds for each of 120 candidates, totalling 600 fits\n",
      "Fitting 5 folds for each of 120 candidates, totalling 600 fits\n",
      "Fitting 5 folds for each of 120 candidates, totalling 600 fits\n",
      "Fitting 5 folds for each of 120 candidates, totalling 600 fits\n",
      "The avg accuracy when removing column * Deck/Porch Elevated is 0.8844029646613019 \n",
      "\n",
      "Fitting 5 folds for each of 120 candidates, totalling 600 fits\n",
      "Fitting 5 folds for each of 120 candidates, totalling 600 fits\n",
      "Fitting 5 folds for each of 120 candidates, totalling 600 fits\n",
      "Fitting 5 folds for each of 120 candidates, totalling 600 fits\n",
      "Fitting 5 folds for each of 120 candidates, totalling 600 fits\n",
      "The avg accuracy when removing column * Patio Cover/Carport Attached to Structure is 0.8827670069749132 \n",
      "\n",
      "Fitting 5 folds for each of 120 candidates, totalling 600 fits\n",
      "Fitting 5 folds for each of 120 candidates, totalling 600 fits\n",
      "Fitting 5 folds for each of 120 candidates, totalling 600 fits\n",
      "Fitting 5 folds for each of 120 candidates, totalling 600 fits\n",
      "Fitting 5 folds for each of 120 candidates, totalling 600 fits\n",
      "The avg accuracy when removing column * Fence Attached to Structure is 0.883438966320368 \n",
      "\n",
      "Fitting 5 folds for each of 120 candidates, totalling 600 fits\n",
      "Fitting 5 folds for each of 120 candidates, totalling 600 fits\n",
      "Fitting 5 folds for each of 120 candidates, totalling 600 fits\n",
      "Fitting 5 folds for each of 120 candidates, totalling 600 fits\n",
      "Fitting 5 folds for each of 120 candidates, totalling 600 fits\n",
      "The avg accuracy when removing column Assessed Improved Value (parcel) is 0.8845491462938897 \n",
      "\n",
      "Fitting 5 folds for each of 120 candidates, totalling 600 fits\n",
      "Fitting 5 folds for each of 120 candidates, totalling 600 fits\n",
      "Fitting 5 folds for each of 120 candidates, totalling 600 fits\n",
      "Fitting 5 folds for each of 120 candidates, totalling 600 fits\n",
      "Fitting 5 folds for each of 120 candidates, totalling 600 fits\n",
      "The avg accuracy when removing column Latitude is 0.8689785389354678 \n",
      "\n",
      "Fitting 5 folds for each of 120 candidates, totalling 600 fits\n",
      "Fitting 5 folds for each of 120 candidates, totalling 600 fits\n",
      "Fitting 5 folds for each of 120 candidates, totalling 600 fits\n",
      "Fitting 5 folds for each of 120 candidates, totalling 600 fits\n",
      "Fitting 5 folds for each of 120 candidates, totalling 600 fits\n",
      "The avg accuracy when removing column Longitude is 0.8706728353003064 \n",
      "\n",
      "Fitting 5 folds for each of 120 candidates, totalling 600 fits\n",
      "Fitting 5 folds for each of 120 candidates, totalling 600 fits\n",
      "Fitting 5 folds for each of 120 candidates, totalling 600 fits\n",
      "Fitting 5 folds for each of 120 candidates, totalling 600 fits\n",
      "Fitting 5 folds for each of 120 candidates, totalling 600 fits\n",
      "The avg accuracy when removing column Age is 0.8821827881826396 \n",
      "\n",
      "The maximum accuracy is 0.8845491462938897 and is attained when we remove column Assessed Improved Value (parcel)\n"
     ]
    }
   ],
   "source": [
    "from sklearn.model_selection import StratifiedKFold\n",
    "n_splits = 5\n",
    "kfold = StratifiedKFold(n_splits,\n",
    "                            shuffle=True,\n",
    "                            random_state=216)\n",
    "\n",
    "y = fire_train['Destroyed']\n",
    "\n",
    "avg_Accs = []\n",
    "for c in cal_fire_data.columns[:-1]:   \n",
    "    X = fire_train.drop(columns=['Destroyed',c])\n",
    "\n",
    "    categorical_cols = X.select_dtypes(include='object').columns.tolist()\n",
    "\n",
    "    numeric_cols = X.select_dtypes(include=['int64', 'float64']).columns.difference(['Destroyed'])\n",
    "\n",
    "    preprocessor = ColumnTransformer(\n",
    "        transformers=[\n",
    "            ('cat', OneHotEncoder(handle_unknown='ignore'), categorical_cols),\n",
    "            ('scaler', StandardScaler(), numeric_cols)\n",
    "        ],\n",
    "        remainder='passthrough'  \n",
    "    )\n",
    "\n",
    "    rfpipeline = Pipeline(steps=[\n",
    "        ('preprocessor', preprocessor),\n",
    "        ('classifier', RandomForestClassifier(n_estimators=8, random_state=216))\n",
    "    ])\n",
    "\n",
    "    param_grid = {\n",
    "        'classifier__criterion': ['gini'],\n",
    "        'classifier__max_depth': [5, 10, 15, 20, None],\n",
    "        'classifier__min_samples_split': [2, 4, 6, 8, 10, 12],\n",
    "        'classifier__min_samples_leaf': [1, 2, 4, 8]\n",
    "    }\n",
    "\n",
    "    accuracies = []\n",
    "\n",
    "    for train_index, test_index in kfold.split(X,y):\n",
    "        X_tt = X.iloc[train_index]\n",
    "        y_tt = y.iloc[train_index]\n",
    "        X_ho = X.iloc[test_index]\n",
    "        y_ho = y.iloc[test_index]\n",
    "        \n",
    "        grid_search_rf = GridSearchCV(rfpipeline, param_grid, cv=5, verbose=1, n_jobs=-1)\n",
    "        grid_search_rf.fit(X_tt, y_tt)\n",
    "\n",
    "        y_rfpred = grid_search_rf.best_estimator_.predict(X_ho)\n",
    "        accuracies += [accuracy_score(y_ho, y_rfpred)]\n",
    "    print('The avg accuracy when removing column', c, 'is', np.mean(accuracies),'\\n')\n",
    "    avg_Accs += [np.mean(accuracies)]\n",
    "\n",
    "print('The maximum accuracy is', np.max(avg_Accs), 'and is attained when we remove column', cal_fire_data.columns[np.argmax(avg_Accs)])\n"
   ]
  },
  {
   "cell_type": "markdown",
   "id": "409badc2",
   "metadata": {},
   "source": [
    "Removing any feature seams to decrease accuracy of the model. Let's keep them all then."
   ]
  }
 ],
 "metadata": {
  "kernelspec": {
   "display_name": "erdos_spring_2025",
   "language": "python",
   "name": "python3"
  },
  "language_info": {
   "codemirror_mode": {
    "name": "ipython",
    "version": 3
   },
   "file_extension": ".py",
   "mimetype": "text/x-python",
   "name": "python",
   "nbconvert_exporter": "python",
   "pygments_lexer": "ipython3",
   "version": "3.12.8"
  }
 },
 "nbformat": 4,
 "nbformat_minor": 5
}
