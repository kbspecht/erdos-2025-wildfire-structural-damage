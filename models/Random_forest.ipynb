{
 "cells": [
  {
   "cell_type": "code",
   "execution_count": null,
   "id": "6e17d84f",
   "metadata": {},
   "outputs": [],
   "source": [
    "#Import some basic packages\n",
    "import numpy as np\n",
    "import pandas as pd\n",
    "import matplotlib.pyplot as plt\n",
    "import plotly.express as px\n",
    "import seaborn as sns\n",
    "sns.set_style(\"whitegrid\")\n"
   ]
  },
  {
   "cell_type": "code",
   "execution_count": null,
   "id": "daa34ac4",
   "metadata": {},
   "outputs": [],
   "source": [
    "#Let's import the data and instanciate a train/test split with the seed everyrone is using.\n",
    "\n",
    "housing = pd.read_csv('../data/cal_fire_data_cleaned.csv')\n",
    "\n",
    "from sklearn.model_selection import train_test_split\n",
    "housing_train,housing_test = train_test_split(housing, test_size=.2, random_state=216, shuffle=True, stratify=housing['Destroyed'])\n"
   ]
  },
  {
   "cell_type": "code",
   "execution_count": null,
   "id": "6928b4b3",
   "metadata": {},
   "outputs": [],
   "source": [
    "#Let's import all the functions from sklearn that we're using.\n",
    "\n",
    "from sklearn.compose import ColumnTransformer\n",
    "from sklearn.pipeline import Pipeline\n",
    "from sklearn.preprocessing import OneHotEncoder, StandardScaler, FunctionTransformer\n",
    "from sklearn.tree import DecisionTreeClassifier\n",
    "from sklearn.ensemble import RandomForestClassifier, ExtraTreesClassifier\n",
    "from sklearn.metrics import confusion_matrix, accuracy_score, precision_score, recall_score, f1_score\n"
   ]
  },
  {
   "cell_type": "code",
   "execution_count": null,
   "id": "405e536d",
   "metadata": {},
   "outputs": [],
   "source": [
    "preprocessor = ColumnTransformer(\n",
    "    transformers=[\n",
    "        (\"Structure Type\", OneHotEncoder(), ['* Structure Type']),\n",
    "        (\"Roof Construction\", OneHotEncoder(), ['* Roof Construction']),\n",
    "        (\"Eaves\", OneHotEncoder(), ['* Eaves']),\n",
    "        (\"Vent Screen\", OneHotEncoder(), ['* Vent Screen']),\n",
    "        (\"Exterior Siding\", OneHotEncoder(), ['* Exterior Siding']),\n",
    "        (\"Window Pane\", OneHotEncoder(), ['* Window Pane']),\n",
    "        (\"Elevated\", OneHotEncoder(), ['* Deck/Porch Elevated']),\n",
    "        (\"Patio Cover/Carport Attached\", OneHotEncoder(), ['* Patio Cover/Carport Attached to Structure']),\n",
    "        (\"Fence Attached to Structure\", OneHotEncoder(), ['* Fence Attached to Structure']),\n",
    "        (\"Longitude\", StandardScaler(), ['Longitude']),\n",
    "        (\"Latitude\", StandardScaler(), ['Latitude'])\n",
    "        ])\n",
    "\n",
    "ETModel = Pipeline([('Preprocess', preprocessor),('Extra Trees', ExtraTreesClassifier(n_estimators=500, max_depth=40))])\n",
    "\n",
    "ETModel.fit(housing_train[['* Structure Type', '* Roof Construction', '* Eaves', '* Vent Screen',\n",
    "       '* Exterior Siding', '* Window Pane', '* Deck/Porch On Grade',\n",
    "       '* Deck/Porch Elevated', '* Patio Cover/Carport Attached to Structure',\n",
    "       '* Fence Attached to Structure', 'Latitude', 'Longitude']],housing_train['Destroyed'])\n",
    "\n",
    "preds = ETModel.predict(housing_test[['* Structure Type', '* Roof Construction', '* Eaves', '* Vent Screen',\n",
    "       '* Exterior Siding', '* Window Pane', '* Deck/Porch On Grade',\n",
    "       '* Deck/Porch Elevated', '* Patio Cover/Carport Attached to Structure',\n",
    "       '* Fence Attached to Structure', 'Latitude', 'Longitude']])\n"
   ]
  },
  {
   "cell_type": "code",
   "execution_count": 5,
   "id": "be46e77c",
   "metadata": {},
   "outputs": [
    {
     "name": "stdout",
     "output_type": "stream",
     "text": [
      "The confusion matrix is \n",
      " [[4569  546]\n",
      " [ 687 2756]]\n",
      "The accuracy score is 0.8559242813741529 \n",
      "\n",
      "The precision score is 0.8346456692913385 \n",
      "\n",
      "The recall score is 0.8346456692913385 \n",
      "\n"
     ]
    }
   ],
   "source": [
    "print('The confusion matrix is \\n', confusion_matrix(housing_test['Destroyed'].values, preds))\n",
    "print('The accuracy score is', accuracy_score(housing_test['Destroyed'].values, preds), '\\n')\n",
    "print('The precision score is', precision_score(housing_test['Destroyed'].values, preds), '\\n')\n",
    "print('The recall score is', precision_score(housing_test['Destroyed'].values, preds), '\\n')\n",
    "\n"
   ]
  },
  {
   "cell_type": "code",
   "execution_count": null,
   "id": "176d77df",
   "metadata": {},
   "outputs": [],
   "source": [
    "preprocessor = ColumnTransformer(\n",
    "    transformers=[\n",
    "        (\"Structure Type\", OneHotEncoder(), ['* Structure Type']),\n",
    "        (\"Roof Construction\", OneHotEncoder(), ['* Roof Construction']),\n",
    "        (\"Eaves\", OneHotEncoder(), ['* Eaves']),\n",
    "        (\"Vent Screen\", OneHotEncoder(), ['* Vent Screen']),\n",
    "        (\"Exterior Siding\", OneHotEncoder(), ['* Exterior Siding']),\n",
    "        (\"Window Pane\", OneHotEncoder(), ['* Window Pane']),\n",
    "        (\"Elevated\", OneHotEncoder(), ['* Deck/Porch Elevated']),\n",
    "        (\"Patio Cover/Carport Attached\", OneHotEncoder(), ['* Patio Cover/Carport Attached to Structure']),\n",
    "        (\"Fence Attached to Structure\", OneHotEncoder(), ['* Fence Attached to Structure']),\n",
    "        (\"Longitude\", StandardScaler(), ['Longitude']),\n",
    "        (\"Latitude\", StandardScaler(), ['Latitude'])\n",
    "        ])\n",
    "\n",
    "RFModel = Pipeline([('Preprocess', preprocessor),('Extra Trees', RandomForestClassifier(n_estimators=4000, min_samples_leaf = 20, max_depth=200, random_state=216))])\n",
    "\n",
    "RFModel.fit(housing_train[['* Structure Type', '* Roof Construction', '* Eaves', '* Vent Screen',\n",
    "       '* Exterior Siding', '* Window Pane', '* Deck/Porch On Grade',\n",
    "       '* Deck/Porch Elevated', '* Patio Cover/Carport Attached to Structure',\n",
    "       '* Fence Attached to Structure', 'Latitude', 'Longitude']],housing_train['Destroyed'])\n",
    "\n",
    "preds = RFModel.predict(housing_test[['* Structure Type', '* Roof Construction', '* Eaves', '* Vent Screen',\n",
    "       '* Exterior Siding', '* Window Pane', '* Deck/Porch On Grade',\n",
    "       '* Deck/Porch Elevated', '* Patio Cover/Carport Attached to Structure',\n",
    "       '* Fence Attached to Structure', 'Latitude', 'Longitude']])\n"
   ]
  },
  {
   "cell_type": "code",
   "execution_count": null,
   "id": "b279d93e",
   "metadata": {},
   "outputs": [
    {
     "name": "stdout",
     "output_type": "stream",
     "text": [
      "The confusion matrix is \n",
      " [[4886  229]\n",
      " [ 946 2497]]\n",
      "The accuracy score is 0.8627015657863987 \n",
      "\n",
      "The precision score is 0.9159941305942774 \n",
      "\n",
      "The recall score is 0.7252396166134185 \n",
      "\n",
      "The f1 score is 0.8095315286107959 \n",
      "\n"
     ]
    }
   ],
   "source": [
    "print('The confusion matrix is \\n', confusion_matrix(housing_test['Destroyed'].values, preds))\n",
    "print('The accuracy score is', accuracy_score(housing_test['Destroyed'].values, preds), '\\n')\n",
    "print('The precision score is', precision_score(housing_test['Destroyed'].values, preds), '\\n')\n",
    "print('The recall score is', recall_score(housing_test['Destroyed'].values, preds), '\\n')\n",
    "print('The f1 score is', f1_score(housing_test['Destroyed'].values, preds), '\\n')\n"
   ]
  },
  {
   "cell_type": "code",
   "execution_count": null,
   "id": "e7a2856d",
   "metadata": {},
   "outputs": [],
   "source": []
  }
 ],
 "metadata": {
  "kernelspec": {
   "display_name": "erdos_spring_2025",
   "language": "python",
   "name": "python3"
  },
  "language_info": {
   "codemirror_mode": {
    "name": "ipython",
    "version": 3
   },
   "file_extension": ".py",
   "mimetype": "text/x-python",
   "name": "python",
   "nbconvert_exporter": "python",
   "pygments_lexer": "ipython3",
   "version": "3.12.8"
  }
 },
 "nbformat": 4,
 "nbformat_minor": 5
}
