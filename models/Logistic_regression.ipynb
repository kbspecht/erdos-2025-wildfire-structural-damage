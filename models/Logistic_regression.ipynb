{
 "cells": [
  {
   "cell_type": "markdown",
   "id": "f928c728",
   "metadata": {},
   "source": [
    "Logistic Regression Model for Building Destruction Classification"
   ]
  },
  {
   "cell_type": "code",
   "execution_count": 55,
   "id": "2bcd177a",
   "metadata": {},
   "outputs": [],
   "source": [
    "import numpy as np\n",
    "import pandas as pd\n",
    "import seaborn as sns\n",
    "import matplotlib.pyplot as plt\n"
   ]
  },
  {
   "cell_type": "markdown",
   "id": "19c1d995",
   "metadata": {},
   "source": [
    "We start by reading data in from the cal_fire_data_cleaned CSV file:"
   ]
  },
  {
   "cell_type": "code",
   "execution_count": 56,
   "id": "e81c9bdc",
   "metadata": {},
   "outputs": [
    {
     "name": "stdout",
     "output_type": "stream",
     "text": [
      "<class 'pandas.core.frame.DataFrame'>\n",
      "RangeIndex: 42789 entries, 0 to 42788\n",
      "Data columns (total 15 columns):\n",
      " #   Column                                       Non-Null Count  Dtype  \n",
      "---  ------                                       --------------  -----  \n",
      " 0   * Structure Type                             42789 non-null  object \n",
      " 1   * Roof Construction                          42789 non-null  object \n",
      " 2   * Eaves                                      42789 non-null  object \n",
      " 3   * Vent Screen                                42789 non-null  object \n",
      " 4   * Exterior Siding                            42789 non-null  object \n",
      " 5   * Window Pane                                42789 non-null  object \n",
      " 6   * Deck/Porch On Grade                        42789 non-null  object \n",
      " 7   * Deck/Porch Elevated                        42789 non-null  object \n",
      " 8   * Patio Cover/Carport Attached to Structure  42789 non-null  object \n",
      " 9   * Fence Attached to Structure                42789 non-null  object \n",
      " 10  Assessed Improved Value (parcel)             42789 non-null  float64\n",
      " 11  Latitude                                     42789 non-null  float64\n",
      " 12  Longitude                                    42789 non-null  float64\n",
      " 13  Age                                          42789 non-null  float64\n",
      " 14  Destroyed                                    42789 non-null  int64  \n",
      "dtypes: float64(4), int64(1), object(10)\n",
      "memory usage: 4.9+ MB\n"
     ]
    }
   ],
   "source": [
    "cal_fire_data = pd.read_csv(\"../data/cal_fire_data_cleaned.csv\")\n",
    "cal_fire_data.info()\n"
   ]
  },
  {
   "cell_type": "markdown",
   "id": "7972c26b",
   "metadata": {},
   "source": [
    "We perform one-hot encoding on our categorical features to make them usable by the model:"
   ]
  },
  {
   "cell_type": "code",
   "execution_count": 57,
   "id": "d507c302",
   "metadata": {},
   "outputs": [
    {
     "name": "stdout",
     "output_type": "stream",
     "text": [
      "<class 'pandas.core.frame.DataFrame'>\n",
      "RangeIndex: 42789 entries, 0 to 42788\n",
      "Data columns (total 49 columns):\n",
      " #   Column                                                              Non-Null Count  Dtype  \n",
      "---  ------                                                              --------------  -----  \n",
      " 0   Assessed Improved Value (parcel)                                    42789 non-null  float64\n",
      " 1   Latitude                                                            42789 non-null  float64\n",
      " 2   Longitude                                                           42789 non-null  float64\n",
      " 3   Age                                                                 42789 non-null  float64\n",
      " 4   Destroyed                                                           42789 non-null  int64  \n",
      " 5   * Structure Type_Commercial Building Multi Story                    42789 non-null  bool   \n",
      " 6   * Structure Type_Commercial Building Single Story                   42789 non-null  bool   \n",
      " 7   * Structure Type_Hospital                                           42789 non-null  bool   \n",
      " 8   * Structure Type_Infrastructure                                     42789 non-null  bool   \n",
      " 9   * Structure Type_Mixed Commercial/Residential                       42789 non-null  bool   \n",
      " 10  * Structure Type_Mobile Home Double Wide                            42789 non-null  bool   \n",
      " 11  * Structure Type_Mobile Home Single Wide                            42789 non-null  bool   \n",
      " 12  * Structure Type_Mobile Home Triple Wide                            42789 non-null  bool   \n",
      " 13  * Structure Type_Motor Home                                         42789 non-null  bool   \n",
      " 14  * Structure Type_Multi Family Residence Multi Story                 42789 non-null  bool   \n",
      " 15  * Structure Type_Multi Family Residence Single Story                42789 non-null  bool   \n",
      " 16  * Structure Type_School                                             42789 non-null  bool   \n",
      " 17  * Structure Type_Single Family Residence Multi Story                42789 non-null  bool   \n",
      " 18  * Structure Type_Single Family Residence Single Story               42789 non-null  bool   \n",
      " 19  * Structure Type_Utility Misc Structure                             42789 non-null  bool   \n",
      " 20  * Roof Construction_Concrete                                        42789 non-null  bool   \n",
      " 21  * Roof Construction_Metal                                           42789 non-null  bool   \n",
      " 22  * Roof Construction_Other                                           42789 non-null  bool   \n",
      " 23  * Roof Construction_Tile                                            42789 non-null  bool   \n",
      " 24  * Roof Construction_Wood                                            42789 non-null  bool   \n",
      " 25  * Eaves_No Eaves                                                    42789 non-null  bool   \n",
      " 26  * Eaves_Unenclosed                                                  42789 non-null  bool   \n",
      " 27  * Vent Screen_Mesh Screen > 1/8\"\"                                   42789 non-null  bool   \n",
      " 28  * Vent Screen_No Vents                                              42789 non-null  bool   \n",
      " 29  * Vent Screen_Unscreened                                            42789 non-null  bool   \n",
      " 30  * Exterior Siding_Ignition Resistant                                42789 non-null  bool   \n",
      " 31  * Exterior Siding_Metal                                             42789 non-null  bool   \n",
      " 32  * Exterior Siding_Other                                             42789 non-null  bool   \n",
      " 33  * Exterior Siding_Stucco Brick Cement                               42789 non-null  bool   \n",
      " 34  * Exterior Siding_Stucco/Brick/Cement                               42789 non-null  bool   \n",
      " 35  * Exterior Siding_Vinyl                                             42789 non-null  bool   \n",
      " 36  * Exterior Siding_Wood                                              42789 non-null  bool   \n",
      " 37  * Window Pane_No Windows                                            42789 non-null  bool   \n",
      " 38  * Window Pane_Single Pane                                           42789 non-null  bool   \n",
      " 39  * Deck/Porch On Grade_Masonry/Concrete                              42789 non-null  bool   \n",
      " 40  * Deck/Porch On Grade_No Deck/Porch                                 42789 non-null  bool   \n",
      " 41  * Deck/Porch On Grade_Wood                                          42789 non-null  bool   \n",
      " 42  * Deck/Porch Elevated_Masonry/Concrete                              42789 non-null  bool   \n",
      " 43  * Deck/Porch Elevated_No Deck/Porch                                 42789 non-null  bool   \n",
      " 44  * Deck/Porch Elevated_Wood                                          42789 non-null  bool   \n",
      " 45  * Patio Cover/Carport Attached to Structure_No Patio Cover/Carport  42789 non-null  bool   \n",
      " 46  * Patio Cover/Carport Attached to Structure_Non Combustible         42789 non-null  bool   \n",
      " 47  * Fence Attached to Structure_No Fence                              42789 non-null  bool   \n",
      " 48  * Fence Attached to Structure_Non Combustible                       42789 non-null  bool   \n",
      "dtypes: bool(44), float64(4), int64(1)\n",
      "memory usage: 3.4 MB\n"
     ]
    }
   ],
   "source": [
    "original_columns = cal_fire_data.columns\n",
    "cal_fire_data = pd.get_dummies(cal_fire_data, columns=cal_fire_data.select_dtypes('object').columns, drop_first=True)\n",
    "cal_fire_data.info()\n"
   ]
  },
  {
   "cell_type": "markdown",
   "id": "ccfe4e5d",
   "metadata": {},
   "source": [
    "We set our feature and target variables and create a train/test split (80%/20%):"
   ]
  },
  {
   "cell_type": "code",
   "execution_count": 58,
   "id": "8785b00b",
   "metadata": {},
   "outputs": [
    {
     "data": {
      "text/plain": [
       "Destroyed\n",
       "0    0.59763\n",
       "1    0.40237\n",
       "Name: proportion, dtype: float64"
      ]
     },
     "execution_count": 58,
     "metadata": {},
     "output_type": "execute_result"
    }
   ],
   "source": [
    "from sklearn.model_selection import train_test_split\n",
    "\n",
    "X = cal_fire_data.drop(columns='Destroyed')\n",
    "y = cal_fire_data['Destroyed']\n",
    "X_train, X_test, y_train, y_test = train_test_split(X, y, test_size=0.2, shuffle=True, random_state=216, stratify=y)\n",
    "y.value_counts(normalize=True)\n"
   ]
  },
  {
   "cell_type": "markdown",
   "id": "21efcdf9",
   "metadata": {},
   "source": [
    "For this model, we classify each observation by applying Logistic Regression to the all of the features of the data."
   ]
  },
  {
   "cell_type": "code",
   "execution_count": 59,
   "id": "e2d26a0f",
   "metadata": {},
   "outputs": [],
   "source": [
    "from sklearn.linear_model import LogisticRegression\n",
    "\n",
    "lr = LogisticRegression(penalty=None, max_iter=1000, random_state=216)\n",
    "lr.fit(X_train, y_train)\n",
    "y_pred = lr.predict(X_test)\n"
   ]
  },
  {
   "cell_type": "markdown",
   "id": "6d886924",
   "metadata": {},
   "source": [
    "Along with the prediction accuracy, we have a classification report that includes precision, recall, and f1 scores:"
   ]
  },
  {
   "cell_type": "code",
   "execution_count": 60,
   "id": "26892ade",
   "metadata": {},
   "outputs": [
    {
     "name": "stdout",
     "output_type": "stream",
     "text": [
      "accuracy:  0.7768170133208694\n",
      "\n",
      "report: \n",
      "\n",
      "              precision    recall  f1-score   support\n",
      "\n",
      "           0       0.82      0.80      0.81      5115\n",
      "           1       0.72      0.74      0.73      3443\n",
      "\n",
      "    accuracy                           0.78      8558\n",
      "   macro avg       0.77      0.77      0.77      8558\n",
      "weighted avg       0.78      0.78      0.78      8558\n",
      "\n"
     ]
    }
   ],
   "source": [
    "from sklearn.metrics import accuracy_score, classification_report\n",
    "\n",
    "baseline_test_acc = accuracy_score(y_test, y_pred)\n",
    "print(\"accuracy: \", baseline_test_acc)\n",
    "print(\"\\nreport: \\n\")\n",
    "print(classification_report(y_test,y_pred))\n"
   ]
  },
  {
   "cell_type": "markdown",
   "id": "c9798586",
   "metadata": {},
   "source": [
    "We also have a confusion matrix showing how the model performed across classes:"
   ]
  },
  {
   "cell_type": "code",
   "execution_count": 61,
   "id": "4441c3a9",
   "metadata": {},
   "outputs": [],
   "source": [
    "from sklearn.metrics import confusion_matrix\n",
    "from sklearn.metrics import ConfusionMatrixDisplay\n"
   ]
  },
  {
   "cell_type": "code",
   "execution_count": 62,
   "id": "668fc283",
   "metadata": {},
   "outputs": [
    {
     "data": {
      "image/png": "[encoded data removed]",
      "text/plain": [
       "<Figure size 1100x1100 with 2 Axes>"
      ]
     },
     "metadata": {},
     "output_type": "display_data"
    }
   ],
   "source": [
    "cm = confusion_matrix(y_test, y_pred)\n",
    "disp = ConfusionMatrixDisplay(confusion_matrix=cm, display_labels=['Not Destroyed', 'Destroyed'])\n",
    "fig, ax = plt.subplots(figsize=(11, 11), facecolor = ('#fffbf0'))\n",
    "disp.plot(ax=ax, cmap='YlOrRd')\n",
    "fig.autofmt_xdate()\n",
    "plt.title(\"Confusion Matrix of Logistic Regression Classification Results for Building Destruction\")\n",
    "plt.show()\n"
   ]
  },
  {
   "cell_type": "markdown",
   "id": "432208aa",
   "metadata": {},
   "source": [
    "Display feature importances for this model:"
   ]
  },
  {
   "cell_type": "code",
   "execution_count": 63,
   "id": "0ac3d4cf",
   "metadata": {},
   "outputs": [
    {
     "data": {
      "text/html": [
       "<div>\n",
       "<style scoped>\n",
       "    .dataframe tbody tr th:only-of-type {\n",
       "        vertical-align: middle;\n",
       "    }\n",
       "\n",
       "    .dataframe tbody tr th {\n",
       "        vertical-align: top;\n",
       "    }\n",
       "\n",
       "    .dataframe thead th {\n",
       "        text-align: right;\n",
       "    }\n",
       "</style>\n",
       "<table border=\"1\" class=\"dataframe\">\n",
       "  <thead>\n",
       "    <tr style=\"text-align: right;\">\n",
       "      <th></th>\n",
       "      <th>feature</th>\n",
       "      <th>importance</th>\n",
       "    </tr>\n",
       "  </thead>\n",
       "  <tbody>\n",
       "    <tr>\n",
       "      <th>0</th>\n",
       "      <td>* Structure Type</td>\n",
       "      <td>1.229167e-01</td>\n",
       "    </tr>\n",
       "    <tr>\n",
       "      <th>1</th>\n",
       "      <td>* Roof Construction</td>\n",
       "      <td>7.056757e-02</td>\n",
       "    </tr>\n",
       "    <tr>\n",
       "      <th>2</th>\n",
       "      <td>* Eaves</td>\n",
       "      <td>1.970488e-02</td>\n",
       "    </tr>\n",
       "    <tr>\n",
       "      <th>3</th>\n",
       "      <td>* Vent Screen</td>\n",
       "      <td>8.077911e-02</td>\n",
       "    </tr>\n",
       "    <tr>\n",
       "      <th>4</th>\n",
       "      <td>* Exterior Siding</td>\n",
       "      <td>2.474219e-01</td>\n",
       "    </tr>\n",
       "    <tr>\n",
       "      <th>5</th>\n",
       "      <td>* Window Pane</td>\n",
       "      <td>2.280329e-02</td>\n",
       "    </tr>\n",
       "    <tr>\n",
       "      <th>6</th>\n",
       "      <td>* Deck/Porch On Grade</td>\n",
       "      <td>5.216017e-02</td>\n",
       "    </tr>\n",
       "    <tr>\n",
       "      <th>7</th>\n",
       "      <td>* Deck/Porch Elevated</td>\n",
       "      <td>3.589864e-02</td>\n",
       "    </tr>\n",
       "    <tr>\n",
       "      <th>8</th>\n",
       "      <td>* Patio Cover/Carport Attached to Structure</td>\n",
       "      <td>9.382794e-03</td>\n",
       "    </tr>\n",
       "    <tr>\n",
       "      <th>9</th>\n",
       "      <td>* Fence Attached to Structure</td>\n",
       "      <td>4.823176e-02</td>\n",
       "    </tr>\n",
       "    <tr>\n",
       "      <th>10</th>\n",
       "      <td>Assessed Improved Value (parcel)</td>\n",
       "      <td>1.363348e-09</td>\n",
       "    </tr>\n",
       "    <tr>\n",
       "      <th>11</th>\n",
       "      <td>Latitude</td>\n",
       "      <td>6.018335e-01</td>\n",
       "    </tr>\n",
       "    <tr>\n",
       "      <th>12</th>\n",
       "      <td>Longitude</td>\n",
       "      <td>1.946007e-01</td>\n",
       "    </tr>\n",
       "    <tr>\n",
       "      <th>13</th>\n",
       "      <td>Age</td>\n",
       "      <td>1.090450e-02</td>\n",
       "    </tr>\n",
       "  </tbody>\n",
       "</table>\n",
       "</div>"
      ],
      "text/plain": [
       "                                        feature    importance\n",
       "0                              * Structure Type  1.229167e-01\n",
       "1                           * Roof Construction  7.056757e-02\n",
       "2                                       * Eaves  1.970488e-02\n",
       "3                                 * Vent Screen  8.077911e-02\n",
       "4                             * Exterior Siding  2.474219e-01\n",
       "5                                 * Window Pane  2.280329e-02\n",
       "6                         * Deck/Porch On Grade  5.216017e-02\n",
       "7                         * Deck/Porch Elevated  3.589864e-02\n",
       "8   * Patio Cover/Carport Attached to Structure  9.382794e-03\n",
       "9                 * Fence Attached to Structure  4.823176e-02\n",
       "10             Assessed Improved Value (parcel)  1.363348e-09\n",
       "11                                     Latitude  6.018335e-01\n",
       "12                                    Longitude  1.946007e-01\n",
       "13                                          Age  1.090450e-02"
      ]
     },
     "metadata": {},
     "output_type": "display_data"
    }
   ],
   "source": [
    "from IPython.display import display\n",
    "\n",
    "# Use feature coefficients for regression model (sum absolute value across all encodings for each feature)\n",
    "# to determine feature importance\n",
    "importances = np.zeros(14)\n",
    "importances[0] = np.sum(np.abs(lr.coef_.flatten()[4:19]))\n",
    "importances[1] = np.sum(np.abs(lr.coef_.flatten()[19:24]))\n",
    "importances[2] = np.sum(np.abs(lr.coef_.flatten()[24:26]))\n",
    "importances[3] = np.sum(np.abs(lr.coef_.flatten()[26:29]))\n",
    "importances[4] = np.sum(np.abs(lr.coef_.flatten()[29:36]))\n",
    "importances[5] = np.sum(np.abs(lr.coef_.flatten()[36:38]))\n",
    "importances[6] = np.sum(np.abs(lr.coef_.flatten()[38:41]))\n",
    "importances[7] = np.sum(np.abs(lr.coef_.flatten()[41:44]))\n",
    "importances[8] = np.sum(np.abs(lr.coef_.flatten()[44:46]))\n",
    "importances[9] = np.sum(np.abs(lr.coef_.flatten()[46:48]))\n",
    "importances[10:,] = np.abs(lr.coef_.flatten()[:4])\n",
    "\n",
    "# Create a new dataframe for feature importances across original feature columns and display it\n",
    "feature_df = pd.DataFrame({'feature': original_columns[:-1], 'importance': importances})\n",
    "display(feature_df)\n"
   ]
  },
  {
   "cell_type": "markdown",
   "id": "3162b9f1",
   "metadata": {},
   "source": [
    "For this model, the most important features were latitude, longitude, exterior siding, and structure type."
   ]
  }
 ],
 "metadata": {
  "kernelspec": {
   "display_name": "erdos_spring_2025",
   "language": "python",
   "name": "python3"
  },
  "language_info": {
   "codemirror_mode": {
    "name": "ipython",
    "version": 3
   },
   "file_extension": ".py",
   "mimetype": "text/x-python",
   "name": "python",
   "nbconvert_exporter": "python",
   "pygments_lexer": "ipython3",
   "version": "3.12.8"
  }
 },
 "nbformat": 4,
 "nbformat_minor": 5
}
