{
 "cells": [
  {
   "cell_type": "markdown",
   "id": "dc367390",
   "metadata": {},
   "source": [
    "Gradient Boosting Model for Building Destruction Classification"
   ]
  },
  {
   "cell_type": "code",
   "execution_count": 87,
   "id": "e0829e15",
   "metadata": {},
   "outputs": [],
   "source": [
    "import numpy as np\n",
    "import pandas as pd\n",
    "import seaborn as sns\n",
    "import matplotlib.pyplot as plt\n"
   ]
  },
  {
   "cell_type": "markdown",
   "id": "c97fe6e0",
   "metadata": {},
   "source": [
    "We start by reading data in from the cal_fire_data_cleaned CSV file:"
   ]
  },
  {
   "cell_type": "code",
   "execution_count": 88,
   "id": "7506d52b",
   "metadata": {},
   "outputs": [
    {
     "name": "stdout",
     "output_type": "stream",
     "text": [
      "<class 'pandas.core.frame.DataFrame'>\n",
      "RangeIndex: 42789 entries, 0 to 42788\n",
      "Data columns (total 15 columns):\n",
      " #   Column                                       Non-Null Count  Dtype  \n",
      "---  ------                                       --------------  -----  \n",
      " 0   * Structure Type                             42789 non-null  object \n",
      " 1   * Roof Construction                          42789 non-null  object \n",
      " 2   * Eaves                                      42789 non-null  object \n",
      " 3   * Vent Screen                                42789 non-null  object \n",
      " 4   * Exterior Siding                            42789 non-null  object \n",
      " 5   * Window Pane                                42789 non-null  object \n",
      " 6   * Deck/Porch On Grade                        42789 non-null  object \n",
      " 7   * Deck/Porch Elevated                        42789 non-null  object \n",
      " 8   * Patio Cover/Carport Attached to Structure  42789 non-null  object \n",
      " 9   * Fence Attached to Structure                42789 non-null  object \n",
      " 10  Assessed Improved Value (parcel)             42789 non-null  float64\n",
      " 11  Latitude                                     42789 non-null  float64\n",
      " 12  Longitude                                    42789 non-null  float64\n",
      " 13  Age                                          42789 non-null  float64\n",
      " 14  Destroyed                                    42789 non-null  int64  \n",
      "dtypes: float64(4), int64(1), object(10)\n",
      "memory usage: 4.9+ MB\n"
     ]
    }
   ],
   "source": [
    "cal_fire_data = pd.read_csv(\"../data/cal_fire_data_cleaned.csv\")\n",
    "cal_fire_data.info()\n"
   ]
  },
  {
   "cell_type": "markdown",
   "id": "409219c8",
   "metadata": {},
   "source": [
    "We perform one-hot encoding on our categorical features to make them usable by the model:"
   ]
  },
  {
   "cell_type": "code",
   "execution_count": 89,
   "id": "660df656",
   "metadata": {},
   "outputs": [
    {
     "name": "stdout",
     "output_type": "stream",
     "text": [
      "<class 'pandas.core.frame.DataFrame'>\n",
      "RangeIndex: 42789 entries, 0 to 42788\n",
      "Data columns (total 59 columns):\n",
      " #   Column                                                              Non-Null Count  Dtype  \n",
      "---  ------                                                              --------------  -----  \n",
      " 0   Assessed Improved Value (parcel)                                    42789 non-null  float64\n",
      " 1   Latitude                                                            42789 non-null  float64\n",
      " 2   Longitude                                                           42789 non-null  float64\n",
      " 3   Age                                                                 42789 non-null  float64\n",
      " 4   Destroyed                                                           42789 non-null  int64  \n",
      " 5   * Structure Type_Church                                             42789 non-null  bool   \n",
      " 6   * Structure Type_Commercial Building Multi Story                    42789 non-null  bool   \n",
      " 7   * Structure Type_Commercial Building Single Story                   42789 non-null  bool   \n",
      " 8   * Structure Type_Hospital                                           42789 non-null  bool   \n",
      " 9   * Structure Type_Infrastructure                                     42789 non-null  bool   \n",
      " 10  * Structure Type_Mixed Commercial/Residential                       42789 non-null  bool   \n",
      " 11  * Structure Type_Mobile Home Double Wide                            42789 non-null  bool   \n",
      " 12  * Structure Type_Mobile Home Single Wide                            42789 non-null  bool   \n",
      " 13  * Structure Type_Mobile Home Triple Wide                            42789 non-null  bool   \n",
      " 14  * Structure Type_Motor Home                                         42789 non-null  bool   \n",
      " 15  * Structure Type_Multi Family Residence Multi Story                 42789 non-null  bool   \n",
      " 16  * Structure Type_Multi Family Residence Single Story                42789 non-null  bool   \n",
      " 17  * Structure Type_School                                             42789 non-null  bool   \n",
      " 18  * Structure Type_Single Family Residence Multi Story                42789 non-null  bool   \n",
      " 19  * Structure Type_Single Family Residence Single Story               42789 non-null  bool   \n",
      " 20  * Structure Type_Utility Misc Structure                             42789 non-null  bool   \n",
      " 21  * Roof Construction_Asphalt                                         42789 non-null  bool   \n",
      " 22  * Roof Construction_Concrete                                        42789 non-null  bool   \n",
      " 23  * Roof Construction_Metal                                           42789 non-null  bool   \n",
      " 24  * Roof Construction_Other                                           42789 non-null  bool   \n",
      " 25  * Roof Construction_Tile                                            42789 non-null  bool   \n",
      " 26  * Roof Construction_Wood                                            42789 non-null  bool   \n",
      " 27  * Eaves_Enclosed                                                    42789 non-null  bool   \n",
      " 28  * Eaves_No Eaves                                                    42789 non-null  bool   \n",
      " 29  * Eaves_Unenclosed                                                  42789 non-null  bool   \n",
      " 30  * Vent Screen_Mesh Screen <= 1/8\"\"                                  42789 non-null  bool   \n",
      " 31  * Vent Screen_Mesh Screen > 1/8\"\"                                   42789 non-null  bool   \n",
      " 32  * Vent Screen_No Vents                                              42789 non-null  bool   \n",
      " 33  * Vent Screen_Unscreened                                            42789 non-null  bool   \n",
      " 34  * Exterior Siding_Combustible                                       42789 non-null  bool   \n",
      " 35  * Exterior Siding_Ignition Resistant                                42789 non-null  bool   \n",
      " 36  * Exterior Siding_Metal                                             42789 non-null  bool   \n",
      " 37  * Exterior Siding_Other                                             42789 non-null  bool   \n",
      " 38  * Exterior Siding_Stucco Brick Cement                               42789 non-null  bool   \n",
      " 39  * Exterior Siding_Stucco/Brick/Cement                               42789 non-null  bool   \n",
      " 40  * Exterior Siding_Vinyl                                             42789 non-null  bool   \n",
      " 41  * Exterior Siding_Wood                                              42789 non-null  bool   \n",
      " 42  * Window Pane_Multi Pane                                            42789 non-null  bool   \n",
      " 43  * Window Pane_No Windows                                            42789 non-null  bool   \n",
      " 44  * Window Pane_Single Pane                                           42789 non-null  bool   \n",
      " 45  * Deck/Porch On Grade_Composite                                     42789 non-null  bool   \n",
      " 46  * Deck/Porch On Grade_Masonry/Concrete                              42789 non-null  bool   \n",
      " 47  * Deck/Porch On Grade_No Deck/Porch                                 42789 non-null  bool   \n",
      " 48  * Deck/Porch On Grade_Wood                                          42789 non-null  bool   \n",
      " 49  * Deck/Porch Elevated_Composite                                     42789 non-null  bool   \n",
      " 50  * Deck/Porch Elevated_Masonry/Concrete                              42789 non-null  bool   \n",
      " 51  * Deck/Porch Elevated_No Deck/Porch                                 42789 non-null  bool   \n",
      " 52  * Deck/Porch Elevated_Wood                                          42789 non-null  bool   \n",
      " 53  * Patio Cover/Carport Attached to Structure_Combustible             42789 non-null  bool   \n",
      " 54  * Patio Cover/Carport Attached to Structure_No Patio Cover/Carport  42789 non-null  bool   \n",
      " 55  * Patio Cover/Carport Attached to Structure_Non Combustible         42789 non-null  bool   \n",
      " 56  * Fence Attached to Structure_Combustible                           42789 non-null  bool   \n",
      " 57  * Fence Attached to Structure_No Fence                              42789 non-null  bool   \n",
      " 58  * Fence Attached to Structure_Non Combustible                       42789 non-null  bool   \n",
      "dtypes: bool(54), float64(4), int64(1)\n",
      "memory usage: 3.8 MB\n"
     ]
    }
   ],
   "source": [
    "original_columns = cal_fire_data.columns\n",
    "cal_fire_data = pd.get_dummies(cal_fire_data, columns=cal_fire_data.select_dtypes('object').columns)\n",
    "cal_fire_data.info()\n"
   ]
  },
  {
   "cell_type": "markdown",
   "id": "07d0748a",
   "metadata": {},
   "source": [
    "We set our feature and target variables and create a train/test split (80%/20%):"
   ]
  },
  {
   "cell_type": "code",
   "execution_count": 90,
   "id": "18efa61f",
   "metadata": {},
   "outputs": [
    {
     "data": {
      "text/plain": [
       "Destroyed\n",
       "0    0.59763\n",
       "1    0.40237\n",
       "Name: proportion, dtype: float64"
      ]
     },
     "execution_count": 90,
     "metadata": {},
     "output_type": "execute_result"
    }
   ],
   "source": [
    "from sklearn.model_selection import train_test_split, GridSearchCV\n",
    "\n",
    "X = cal_fire_data.drop(columns='Destroyed')\n",
    "y = cal_fire_data.Destroyed\n",
    "X_train, X_test, y_train, y_test = train_test_split(X, y, test_size=0.2, shuffle=True, random_state=216, stratify=y)\n",
    "y.value_counts(normalize=True)\n"
   ]
  },
  {
   "cell_type": "markdown",
   "id": "d96f81ce",
   "metadata": {},
   "source": [
    "We create a grid of hyperparameters that we want to test for our gradient boosting model:"
   ]
  },
  {
   "cell_type": "code",
   "execution_count": 91,
   "id": "defebca3",
   "metadata": {},
   "outputs": [],
   "source": [
    "param_grid = {\n",
    "    'learning_rate': [0.01, 0.05, 0.1, 0.2, 0.3],\n",
    "    'n_estimators': [1, 2, 4, 8, 16, 32, 64, 100, 200],\n",
    "    'min_samples_split': [2, 4, 6, 8, 10, 12],\n",
    "    'min_samples_leaf': [1, 2, 4, 8],\n",
    "    'max_depth': range(1, 8)\n",
    "}\n"
   ]
  },
  {
   "cell_type": "markdown",
   "id": "30eeadfa",
   "metadata": {},
   "source": [
    "For this model, we perform a grid search that trains a gradient boosting model on the features, determining the best hyperparameters from our grid to use by determining which gives the best accuracy under k-fold cross-validation. Then, we classify each test observation by applying the best gradient boosting model."
   ]
  },
  {
   "cell_type": "code",
   "execution_count": 92,
   "id": "a7ab8cf3",
   "metadata": {},
   "outputs": [],
   "source": [
    "from sklearn.ensemble import GradientBoostingClassifier\n",
    "from sklearn.model_selection import StratifiedKFold\n"
   ]
  },
  {
   "cell_type": "code",
   "execution_count": null,
   "id": "e6c1b736",
   "metadata": {},
   "outputs": [],
   "source": [
    "gbc = GradientBoostingClassifier(random_state=216)\n",
    "kfold = StratifiedKFold(n_splits=5, shuffle=True, random_state=216)\n",
    "\n",
    "grid_search = GridSearchCV(gbc, param_grid, cv=kfold, verbose=2, n_jobs=-1)\n",
    "grid_search.fit(X_train, y_train)\n",
    "best_gbc = grid_search.best_estimator_\n",
    "y_pred = best_gbc.predict(X_test)\n",
    "print(\"best_params:\", grid_search.best_params_)\n"
   ]
  },
  {
   "cell_type": "markdown",
   "id": "d73c1cc6",
   "metadata": {},
   "source": [
    "Along with the prediction accuracy, we have a classification report that includes precision, recall, and f1 scores:"
   ]
  },
  {
   "cell_type": "code",
   "execution_count": null,
   "id": "2df16d2f",
   "metadata": {},
   "outputs": [
    {
     "name": "stdout",
     "output_type": "stream",
     "text": [
      "accuracy:  0.9107268053283477\n",
      "\n",
      "report: \n",
      "\n",
      "              precision    recall  f1-score   support\n",
      "\n",
      "           0       0.92      0.94      0.93      5115\n",
      "           1       0.90      0.87      0.89      3443\n",
      "\n",
      "    accuracy                           0.91      8558\n",
      "   macro avg       0.91      0.90      0.91      8558\n",
      "weighted avg       0.91      0.91      0.91      8558\n",
      "\n"
     ]
    }
   ],
   "source": [
    "from sklearn.metrics import accuracy_score, classification_report\n",
    "\n",
    "baseline_test_acc = accuracy_score(y_test, y_pred)\n",
    "print(\"accuracy: \", baseline_test_acc)\n",
    "print(\"\\nreport: \\n\")\n",
    "print(classification_report(y_test,y_pred))\n"
   ]
  },
  {
   "cell_type": "markdown",
   "id": "a2e0139a",
   "metadata": {},
   "source": [
    "We also have a confusion matrix showing how the model performed across classes:"
   ]
  },
  {
   "cell_type": "code",
   "execution_count": 95,
   "id": "9648f15c",
   "metadata": {},
   "outputs": [],
   "source": [
    "from sklearn.metrics import confusion_matrix\n",
    "from sklearn.metrics import ConfusionMatrixDisplay\n"
   ]
  },
  {
   "cell_type": "code",
   "execution_count": 96,
   "id": "298d00c8",
   "metadata": {},
   "outputs": [
    {
     "data": {
      "image/png": "[encoded data removed]",
      "text/plain": [
       "<Figure size 1100x1100 with 2 Axes>"
      ]
     },
     "metadata": {},
     "output_type": "display_data"
    }
   ],
   "source": [
    "cm = confusion_matrix(y_test, best_gbc.predict(X_test))\n",
    "disp = ConfusionMatrixDisplay(confusion_matrix=cm, display_labels=['Not Destroyed', 'Destroyed'])\n",
    "fig, ax = plt.subplots(figsize=(11, 11), facecolor = ('#fffbf0'))\n",
    "disp.plot(ax=ax, cmap='YlOrRd')\n",
    "fig.autofmt_xdate()\n",
    "plt.title(\"Confusion Matrix of Gradient Boosting Classification Results for Building Destruction\")\n",
    "plt.show()\n"
   ]
  },
  {
   "cell_type": "markdown",
   "id": "38161f9c",
   "metadata": {},
   "source": [
    "We display feature importances for this model:"
   ]
  },
  {
   "cell_type": "code",
   "execution_count": 97,
   "id": "76648dbc",
   "metadata": {},
   "outputs": [
    {
     "data": {
      "text/html": [
       "<div>\n",
       "<style scoped>\n",
       "    .dataframe tbody tr th:only-of-type {\n",
       "        vertical-align: middle;\n",
       "    }\n",
       "\n",
       "    .dataframe tbody tr th {\n",
       "        vertical-align: top;\n",
       "    }\n",
       "\n",
       "    .dataframe thead th {\n",
       "        text-align: right;\n",
       "    }\n",
       "</style>\n",
       "<table border=\"1\" class=\"dataframe\">\n",
       "  <thead>\n",
       "    <tr style=\"text-align: right;\">\n",
       "      <th></th>\n",
       "      <th>feature</th>\n",
       "      <th>importance</th>\n",
       "    </tr>\n",
       "  </thead>\n",
       "  <tbody>\n",
       "    <tr>\n",
       "      <th>0</th>\n",
       "      <td>* Structure Type</td>\n",
       "      <td>0.013333</td>\n",
       "    </tr>\n",
       "    <tr>\n",
       "      <th>1</th>\n",
       "      <td>* Roof Construction</td>\n",
       "      <td>0.007593</td>\n",
       "    </tr>\n",
       "    <tr>\n",
       "      <th>2</th>\n",
       "      <td>* Eaves</td>\n",
       "      <td>0.013224</td>\n",
       "    </tr>\n",
       "    <tr>\n",
       "      <th>3</th>\n",
       "      <td>* Vent Screen</td>\n",
       "      <td>0.015156</td>\n",
       "    </tr>\n",
       "    <tr>\n",
       "      <th>4</th>\n",
       "      <td>* Exterior Siding</td>\n",
       "      <td>0.041981</td>\n",
       "    </tr>\n",
       "    <tr>\n",
       "      <th>5</th>\n",
       "      <td>* Window Pane</td>\n",
       "      <td>0.013961</td>\n",
       "    </tr>\n",
       "    <tr>\n",
       "      <th>6</th>\n",
       "      <td>* Deck/Porch On Grade</td>\n",
       "      <td>0.005089</td>\n",
       "    </tr>\n",
       "    <tr>\n",
       "      <th>7</th>\n",
       "      <td>* Deck/Porch Elevated</td>\n",
       "      <td>0.004369</td>\n",
       "    </tr>\n",
       "    <tr>\n",
       "      <th>8</th>\n",
       "      <td>* Patio Cover/Carport Attached to Structure</td>\n",
       "      <td>0.003246</td>\n",
       "    </tr>\n",
       "    <tr>\n",
       "      <th>9</th>\n",
       "      <td>* Fence Attached to Structure</td>\n",
       "      <td>0.011416</td>\n",
       "    </tr>\n",
       "    <tr>\n",
       "      <th>10</th>\n",
       "      <td>Assessed Improved Value (parcel)</td>\n",
       "      <td>0.030123</td>\n",
       "    </tr>\n",
       "    <tr>\n",
       "      <th>11</th>\n",
       "      <td>Latitude</td>\n",
       "      <td>0.656388</td>\n",
       "    </tr>\n",
       "    <tr>\n",
       "      <th>12</th>\n",
       "      <td>Longitude</td>\n",
       "      <td>0.162072</td>\n",
       "    </tr>\n",
       "    <tr>\n",
       "      <th>13</th>\n",
       "      <td>Age</td>\n",
       "      <td>0.022047</td>\n",
       "    </tr>\n",
       "  </tbody>\n",
       "</table>\n",
       "</div>"
      ],
      "text/plain": [
       "                                        feature  importance\n",
       "0                              * Structure Type    0.013333\n",
       "1                           * Roof Construction    0.007593\n",
       "2                                       * Eaves    0.013224\n",
       "3                                 * Vent Screen    0.015156\n",
       "4                             * Exterior Siding    0.041981\n",
       "5                                 * Window Pane    0.013961\n",
       "6                         * Deck/Porch On Grade    0.005089\n",
       "7                         * Deck/Porch Elevated    0.004369\n",
       "8   * Patio Cover/Carport Attached to Structure    0.003246\n",
       "9                 * Fence Attached to Structure    0.011416\n",
       "10             Assessed Improved Value (parcel)    0.030123\n",
       "11                                     Latitude    0.656388\n",
       "12                                    Longitude    0.162072\n",
       "13                                          Age    0.022047"
      ]
     },
     "metadata": {},
     "output_type": "display_data"
    }
   ],
   "source": [
    "from IPython.display import display\n",
    "\n",
    "# Use impurity-based feature importance (sum across all encodings for each feature)\n",
    "importances = np.zeros(14)\n",
    "importances[0] = np.sum(best_gbc.feature_importances_[4:20])\n",
    "importances[1] = np.sum(best_gbc.feature_importances_[20:26])\n",
    "importances[2] = np.sum(best_gbc.feature_importances_[26:29])\n",
    "importances[3] = np.sum(best_gbc.feature_importances_[29:33])\n",
    "importances[4] = np.sum(best_gbc.feature_importances_[33:41])\n",
    "importances[5] = np.sum(best_gbc.feature_importances_[41:44])\n",
    "importances[6] = np.sum(best_gbc.feature_importances_[44:48])\n",
    "importances[7] = np.sum(best_gbc.feature_importances_[48:52])\n",
    "importances[8] = np.sum(best_gbc.feature_importances_[52:55])\n",
    "importances[9] = np.sum(best_gbc.feature_importances_[55:58])\n",
    "importances[10:,] = best_gbc.feature_importances_[:4]\n",
    "\n",
    "# Create a new dataframe for feature importances across original feature columns and display it\n",
    "feature_df = pd.DataFrame({'feature': original_columns[:-1], 'importance': importances})\n",
    "display(feature_df)\n"
   ]
  },
  {
   "cell_type": "markdown",
   "id": "fec1b019",
   "metadata": {},
   "source": [
    "For this model, the most important features were latitude and longitude."
   ]
  }
 ],
 "metadata": {
  "kernelspec": {
   "display_name": "erdos_spring_2025",
   "language": "python",
   "name": "python3"
  },
  "language_info": {
   "codemirror_mode": {
    "name": "ipython",
    "version": 3
   },
   "file_extension": ".py",
   "mimetype": "text/x-python",
   "name": "python",
   "nbconvert_exporter": "python",
   "pygments_lexer": "ipython3",
   "version": "3.12.8"
  }
 },
 "nbformat": 4,
 "nbformat_minor": 5
}
